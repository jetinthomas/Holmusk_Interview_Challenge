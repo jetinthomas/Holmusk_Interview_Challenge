{
 "cells": [
  {
   "cell_type": "markdown",
   "metadata": {},
   "source": [
    "<h1 align=center><font size=5>Chronic Kidney Disease (CKD)</font></h1>"
   ]
  },
  {
   "cell_type": "markdown",
   "metadata": {},
   "source": [
    "## Predictive Model <a id = 'stats_func'></a> (by CNN Networks)\n",
    "\n",
    "### Using the medications and the start and end day of the prescriptions<a id = 'avg_measure'></a>"
   ]
  },
  {
   "cell_type": "markdown",
   "metadata": {},
   "source": [
    "#### Path\n",
    "\n",
    "The path to the current opened notebook."
   ]
  },
  {
   "cell_type": "code",
   "execution_count": 1,
   "metadata": {},
   "outputs": [
    {
     "data": {
      "text/plain": [
       "'C:\\\\Users\\\\jetin\\\\Desktop\\\\Holmusk_Interview'"
      ]
     },
     "execution_count": 1,
     "metadata": {},
     "output_type": "execute_result"
    }
   ],
   "source": [
    "import os\n",
    "os.getcwd()\n",
    "#os.chdir('../../../Desktop/Lucas_PostDoc/')\n",
    "#os.getcwd()"
   ]
  },
  {
   "cell_type": "markdown",
   "metadata": {},
   "source": [
    "#### Packages needed\n",
    "\n",
    "The packages is loaded which will be useful in the analysis."
   ]
  },
  {
   "cell_type": "code",
   "execution_count": 3,
   "metadata": {},
   "outputs": [],
   "source": [
    "from mpl_toolkits.mplot3d import Axes3D\n",
    "from sklearn.preprocessing import StandardScaler\n",
    "from sklearn.preprocessing import MinMaxScaler\n",
    "import matplotlib.pyplot as plt \n",
    "import numpy as np \n",
    "import os \n",
    "import pandas as pd \n",
    "\n",
    "from sklearn.preprocessing import OneHotEncoder\n",
    "from sklearn.model_selection import train_test_split\n",
    "\n",
    "from tensorflow import keras\n",
    "import keras\n",
    "from keras.models import Sequential\n",
    "from keras.layers import Dense, Embedding, Lambda, Conv1D, BatchNormalization,ReLU,GlobalAveragePooling1D\n",
    "from keras.layers import LSTM, Input,  Reshape, Dropout, Activation\n",
    "from keras.layers import SimpleRNN\n",
    "from keras.models import Model\n",
    "import tensorflow as tf\n",
    "\n",
    "from sklearn.metrics import accuracy_score\n",
    "from sklearn.metrics import confusion_matrix\n",
    "import seaborn as sns\n",
    "from sklearn.metrics import classification_report"
   ]
  },
  {
   "cell_type": "markdown",
   "metadata": {},
   "source": [
    "#### Data File loaded\n",
    "\n",
    "The data file containing the medications, daily dosage, the start and end day of the prescription. The information in the file is displayed."
   ]
  },
  {
   "cell_type": "code",
   "execution_count": 4,
   "metadata": {},
   "outputs": [
    {
     "name": "stdout",
     "output_type": "stream",
     "text": [
      "----------------------------------------------------\n",
      "There are 2181 rows and 5 columns for creatinine\n",
      "metformin        482\n",
      "atorvastatin     357\n",
      "simvastatin      258\n",
      "losartan         251\n",
      "metoprolol       211\n",
      "valsartan        110\n",
      "atenolol         104\n",
      "rosuvastatin     103\n",
      "pravastatin      100\n",
      "carvedilol        57\n",
      "lovastatin        47\n",
      "olmesartan        33\n",
      "bisoprolol        13\n",
      "irbesartan        11\n",
      "propranolol       11\n",
      "canagliflozin      7\n",
      "telmisartan        7\n",
      "nebivolol          7\n",
      "labetalol          5\n",
      "pitavastatin       4\n",
      "dapagliflozin      3\n",
      "Name: drug, dtype: int64\n",
      "                id  daily_dosage    start_day      end_day\n",
      "count  2181.000000   2181.000000  2181.000000  2181.000000\n",
      "mean    144.054562    276.653141   291.254470   370.996332\n",
      "std      87.194538    478.411077   191.087155   190.575803\n",
      "min       0.000000      2.000000   -78.000000    -4.000000\n",
      "25%      68.000000     20.000000   126.000000   208.000000\n",
      "50%     140.000000     50.000000   290.000000   377.000000\n",
      "75%     222.000000    320.000000   448.000000   534.000000\n",
      "max     299.000000   2550.000000   691.000000   698.000000\n",
      "----------------------------------------------------\n"
     ]
    }
   ],
   "source": [
    "nRowsRead = 3000 # specify 'None' if want to read whole file\n",
    "# Hourly-test.csv may have more rows in reality, but we are only loading/previewing the first 1000 rows\n",
    "df = pd.read_csv('./dataScienceTask/T_meds.csv', delimiter=',', nrows = nRowsRead)\n",
    "df.dataframeName = 'T_meds.csv'\n",
    "nRow_tn, nCol_tn = df.shape\n",
    "print(\"----------------------------------------------------\")\n",
    "print(f'There are {nRow_tn} rows and {nCol_tn} columns for creatinine')\n",
    "print(df['drug'].value_counts())\n",
    "print(df.describe())\n",
    "print(\"----------------------------------------------------\")"
   ]
  },
  {
   "cell_type": "markdown",
   "metadata": {},
   "source": [
    "#### Data File loaded\n",
    "\n",
    "The data file containing the longitudinal data of lab measurements and its time is loaded here and the information in the file is displayed."
   ]
  },
  {
   "cell_type": "code",
   "execution_count": 5,
   "metadata": {},
   "outputs": [
    {
     "name": "stdout",
     "output_type": "stream",
     "text": [
      "----------------------------------------------------\n",
      "There are 300 rows and 2 columns for stage progress\n",
      "False    200\n",
      "True     100\n",
      "Name: Stage_Progress, dtype: int64\n",
      "----------------------------------------------------\n"
     ]
    }
   ],
   "source": [
    "nRowsRead = 1000\n",
    "df1 = pd.read_csv('./dataScienceTask/T_stage.csv', delimiter=',', nrows = nRowsRead)\n",
    "df1.dataframeName = 'T_stage.csv'\n",
    "nRow_tn, nCol_tn = df1.shape\n",
    "print(\"----------------------------------------------------\")\n",
    "print(f'There are {nRow_tn} rows and {nCol_tn} columns for stage progress')\n",
    "print(df1['Stage_Progress'].value_counts())\n",
    "print(\"----------------------------------------------------\")"
   ]
  },
  {
   "cell_type": "markdown",
   "metadata": {},
   "source": [
    "#### Matrix consisting of the medications, daily dosage and start and end day of the prescription.\n",
    "\n",
    "A matrix consisting of the medications, its daily dosage, start and end day of the prescription for each person along the row of this matrix."
   ]
  },
  {
   "cell_type": "code",
   "execution_count": 6,
   "metadata": {
    "scrolled": false
   },
   "outputs": [
    {
     "name": "stdout",
     "output_type": "stream",
     "text": [
      "['atorvastatin' 'losartan' 'metformin' 'rosuvastatin' 'pravastatin'\n",
      " 'carvedilol' 'valsartan' 'metoprolol' 'simvastatin' 'bisoprolol'\n",
      " 'atenolol' 'lovastatin' 'olmesartan' 'irbesartan' 'canagliflozin'\n",
      " 'dapagliflozin' 'telmisartan' 'labetalol' 'nebivolol' 'pitavastatin'\n",
      " 'propranolol']\n",
      "------------------------------------------------------------\n",
      "Number of unique drugs given in total :  21\n",
      "------------------------------------------------------------\n",
      "{'atorvastatin': 0, 'losartan': 1, 'metformin': 2, 'rosuvastatin': 3, 'pravastatin': 4, 'carvedilol': 5, 'valsartan': 6, 'metoprolol': 7, 'simvastatin': 8, 'bisoprolol': 9, 'atenolol': 10, 'lovastatin': 11, 'olmesartan': 12, 'irbesartan': 13, 'canagliflozin': 14, 'dapagliflozin': 15, 'telmisartan': 16, 'labetalol': 17, 'nebivolol': 18, 'pitavastatin': 19, 'propranolol': 20}\n",
      "------------------------------------------------------------\n",
      "(array([ 228,  229,  230,  231,  308,  309,  310,  311,  312,  313,  314,\n",
      "        315,  328,  329,  330,  331,  388,  389,  390,  391,  392,  393,\n",
      "        394,  395,  396,  397,  398,  399,  400,  401,  402,  403,  408,\n",
      "        409,  410,  411,  412,  413,  414,  415,  440,  441,  442,  443,\n",
      "        456,  457,  458,  459,  472,  473,  474,  475,  476,  477,  478,\n",
      "        479,  480,  481,  482,  483,  484,  485,  486,  487,  488,  489,\n",
      "        490,  491,  492,  493,  494,  495,  496,  497,  498,  499,  524,\n",
      "        525,  526,  527,  540,  541,  542,  543,  556,  557,  558,  559,\n",
      "        560,  561,  562,  563,  564,  565,  566,  567,  568,  569,  570,\n",
      "        571,  572,  573,  574,  575,  576,  577,  578,  579,  580,  581,\n",
      "        582,  583,  608,  609,  610,  611,  624,  625,  626,  627,  640,\n",
      "        641,  642,  643,  644,  645,  646,  647,  648,  649,  650,  651,\n",
      "        652,  653,  654,  655,  656,  657,  658,  659,  660,  661,  662,\n",
      "        663,  664,  665,  666,  667,  668,  669,  670,  671,  672,  673,\n",
      "        674,  675,  684,  685,  686,  687,  688,  689,  690,  691,  692,\n",
      "        693,  694,  695,  708,  709,  710,  711,  724,  725,  726,  727,\n",
      "        728,  729,  730,  731,  732,  733,  734,  735,  736,  737,  738,\n",
      "        739,  740,  741,  742,  743,  744,  745,  746,  747,  748,  749,\n",
      "        750,  751,  752,  753,  754,  755,  756,  757,  758,  759,  760,\n",
      "        761,  762,  763,  768,  769,  770,  771,  772,  773,  774,  775,\n",
      "        776,  777,  778,  779,  792,  793,  794,  795,  808,  809,  810,\n",
      "        811,  812,  813,  814,  815,  816,  817,  818,  819,  820,  821,\n",
      "        822,  823,  824,  825,  826,  827,  828,  829,  830,  831,  832,\n",
      "        833,  834,  835,  836,  837,  838,  839,  840,  841,  842,  843,\n",
      "        844,  845,  846,  847,  852,  853,  854,  855,  856,  857,  858,\n",
      "        859,  860,  861,  862,  863,  864,  865,  866,  867,  868,  869,\n",
      "        870,  871,  876,  877,  878,  879,  892,  893,  894,  895,  896,\n",
      "        897,  898,  899,  900,  901,  902,  903,  904,  905,  906,  907,\n",
      "        908,  909,  910,  911,  912,  913,  914,  915,  916,  917,  918,\n",
      "        919,  920,  921,  922,  923,  924,  925,  926,  927,  928,  929,\n",
      "        930,  931,  936,  937,  938,  939,  940,  941,  942,  943,  944,\n",
      "        945,  946,  947,  948,  949,  950,  951,  952,  953,  954,  955,\n",
      "        956,  957,  958,  959,  960,  961,  962,  963,  964,  965,  966,\n",
      "        967,  976,  977,  978,  979,  980,  981,  982,  983,  984,  985,\n",
      "        986,  987,  988,  989,  990,  991,  992,  993,  994,  995,  996,\n",
      "        997,  998,  999, 1000, 1001, 1002, 1003, 1004, 1005, 1006, 1007,\n",
      "       1008, 1009, 1010, 1011, 1012, 1013, 1014, 1015, 1020, 1021, 1022,\n",
      "       1023, 1024, 1025, 1026, 1027, 1028, 1029, 1030, 1031, 1032, 1033,\n",
      "       1034, 1035, 1036, 1037, 1038, 1039, 1040, 1041, 1042, 1043, 1044,\n",
      "       1045, 1046, 1047, 1048, 1049, 1050, 1051, 1052, 1053, 1054, 1055,\n",
      "       1060, 1061, 1062, 1063, 1064, 1065, 1066, 1067, 1068, 1069, 1070,\n",
      "       1071, 1072, 1073, 1074, 1075, 1076, 1077, 1078, 1079, 1080, 1081,\n",
      "       1082, 1083, 1084, 1085, 1086, 1087, 1088, 1089, 1090, 1091, 1092,\n",
      "       1093, 1094, 1095, 1096, 1097, 1098, 1099, 1104, 1105, 1106, 1107,\n",
      "       1108, 1109, 1110, 1111, 1112, 1113, 1114, 1115, 1116, 1117, 1118,\n",
      "       1119, 1120, 1121, 1122, 1123, 1124, 1125, 1126, 1127, 1128, 1129,\n",
      "       1130, 1131, 1132, 1133, 1134, 1135, 1136, 1137, 1138, 1139, 1144,\n",
      "       1145, 1146, 1147, 1148, 1149, 1150, 1151, 1152, 1153, 1154, 1155,\n",
      "       1156, 1157, 1158, 1159, 1160, 1161, 1162, 1163, 1164, 1165, 1166,\n",
      "       1167, 1168, 1169, 1170, 1171, 1172, 1173, 1174, 1175, 1176, 1177,\n",
      "       1178, 1179, 1180, 1181, 1182, 1183, 1188, 1189, 1190, 1191, 1192,\n",
      "       1193, 1194, 1195, 1196, 1197, 1198, 1199, 1200, 1201, 1202, 1203,\n",
      "       1204, 1205, 1206, 1207, 1208, 1209, 1210, 1211, 1212, 1213, 1214,\n",
      "       1215, 1216, 1217, 1218, 1219, 1220, 1221, 1222, 1223, 1228, 1229,\n",
      "       1230, 1231, 1232, 1233, 1234, 1235, 1236, 1237, 1238, 1239, 1240,\n",
      "       1241, 1242, 1243, 1244, 1245, 1246, 1247, 1248, 1249, 1250, 1251,\n",
      "       1252, 1253, 1254, 1255, 1256, 1257, 1258, 1259, 1260, 1261, 1262,\n",
      "       1263, 1264, 1265, 1266, 1267, 1272, 1273, 1274, 1275, 1276, 1277,\n",
      "       1278, 1279, 1280, 1281, 1282, 1283, 1284, 1285, 1286, 1287, 1288,\n",
      "       1289, 1290, 1291, 1292, 1293, 1294, 1295, 1296, 1297, 1298, 1299,\n",
      "       1300, 1301, 1302, 1303, 1304, 1305, 1306, 1307, 1308, 1309, 1310,\n",
      "       1311, 1312, 1313, 1314, 1315, 1316, 1317, 1318, 1319, 1320, 1321,\n",
      "       1322, 1323, 1324, 1325, 1326, 1327, 1328, 1329, 1330, 1331, 1332,\n",
      "       1333, 1334, 1335, 1336, 1337, 1338, 1339, 1340, 1341, 1342, 1343,\n",
      "       1344, 1345, 1346, 1347, 1348, 1349, 1350, 1351, 1356, 1357, 1358,\n",
      "       1359, 1360, 1361, 1362, 1363, 1364, 1365, 1366, 1367, 1368, 1369,\n",
      "       1370, 1371, 1372, 1373, 1374, 1375, 1376, 1377, 1378, 1379, 1380,\n",
      "       1381, 1382, 1383, 1384, 1385, 1386, 1387, 1388, 1389, 1390, 1391,\n",
      "       1392, 1393, 1394, 1395, 1396, 1397, 1398, 1399, 1400, 1401, 1402,\n",
      "       1403, 1404, 1405, 1406, 1407, 1408, 1409, 1410, 1411, 1412, 1413,\n",
      "       1414, 1415, 1416, 1417, 1418, 1419, 1420, 1421, 1422, 1423, 1424,\n",
      "       1425, 1426, 1427, 1428, 1429, 1430, 1431, 1432, 1433, 1434, 1435,\n",
      "       1440, 1441, 1442, 1443, 1444, 1445, 1446, 1447, 1448, 1449, 1450,\n",
      "       1451, 1452, 1453, 1454, 1455, 1456, 1457, 1458, 1459, 1460, 1461,\n",
      "       1462, 1463, 1464, 1465, 1466, 1467, 1468, 1469, 1470, 1471, 1472,\n",
      "       1473, 1474, 1475, 1476, 1477, 1478, 1479, 1480, 1481, 1482, 1483,\n",
      "       1484, 1485, 1486, 1487, 1488, 1489, 1490, 1491, 1492, 1493, 1494,\n",
      "       1495, 1496, 1497, 1498, 1499, 1500, 1501, 1502, 1503, 1504, 1505,\n",
      "       1506, 1507, 1508, 1509, 1510, 1511], dtype=int64),)\n",
      "------------------------------------------------------------\n",
      "[[  1.  10.  19. ...   0.   0.   0.]\n",
      " [  1.  20.  43. ...   0.   0.   0.]\n",
      " [  0.   0.   0. ...   0.   0.   0.]\n",
      " ...\n",
      " [  0.   0.   0. ...   0.   0.   0.]\n",
      " [  1.  20. 309. ...   0.   0.   0.]\n",
      " [  1.  10. 117. ...   0.   0.   0.]]\n",
      "------------------------------------------------------------\n"
     ]
    }
   ],
   "source": [
    "print(df['drug'].unique())\n",
    "print(\"------------------------------------------------------------\")\n",
    "print(\"Number of unique drugs given in total : \", df['drug'].nunique())\n",
    "print(\"------------------------------------------------------------\")\n",
    "tot_persons = 300\n",
    "\n",
    "list_drug = df['drug']\n",
    "names_drug = list_drug.unique()\n",
    "dict_drug = {}\n",
    "ind = 0\n",
    "\n",
    "for drug in list_drug.unique():\n",
    "    dict_drug[names_drug[ind]] = ind\n",
    "    ind = ind+1\n",
    "\n",
    "print(dict_drug)    \n",
    "print(\"------------------------------------------------------------\")\n",
    "\n",
    "meds_list = np.zeros((tot_persons, 4*len(names_drug)*18))\n",
    "\n",
    "for person in range(0,tot_persons): \n",
    "    list1 = df.index[df['id'] == person].tolist()\n",
    "    list2 = list_drug[list1]\n",
    "    #print(list2)\n",
    "    ind=0\n",
    "    ind1=1\n",
    "    for index in list1:\n",
    "        if (ind==0) or (dict_drug[list_drug[index]]!=dict_drug[list_drug[index-1]]):\n",
    "            meds_list[person][4*dict_drug[list_drug[index]]] = dict_drug[list_drug[index]]+1\n",
    "            meds_list[person][4*dict_drug[list_drug[index]]+1] = df['daily_dosage'][index]\n",
    "            meds_list[person][4*dict_drug[list_drug[index]]+2] = df['start_day'][index]\n",
    "            meds_list[person][4*dict_drug[list_drug[index]]+3] = df['end_day'][index]\n",
    "            if (ind!=0) and (dict_drug[list_drug[index]]!=dict_drug[list_drug[index-1]]):\n",
    "                ind1=1\n",
    "            \n",
    "        if (ind!=0) and (dict_drug[list_drug[index]]==dict_drug[list_drug[index-1]]):    \n",
    "            meds_list[person][4*len(names_drug)*ind1+4*dict_drug[list_drug[index]]] = dict_drug[list_drug[index]]+1\n",
    "            meds_list[person][4*len(names_drug)*ind1+4*dict_drug[list_drug[index]]+1] = df['daily_dosage'][index]\n",
    "            meds_list[person][4*len(names_drug)*ind1+4*dict_drug[list_drug[index]]+2] = df['start_day'][index]\n",
    "            meds_list[person][4*len(names_drug)*ind1+4*dict_drug[list_drug[index]]+3] = df['end_day'][index]\n",
    "            ind1=ind1+1\n",
    "        ind=ind+1\n",
    "            \n",
    "#print(meds_list[298][0:4*21*8])   \n",
    "data = meds_list\n",
    "\n",
    "S = np.sum(data,0)\n",
    "S_index = np.where(S == 0)\n",
    "#print(S)\n",
    "print(S_index)\n",
    "print(\"------------------------------------------------------------\")\n",
    "data = np.delete(data,S_index,1)\n",
    "print(data)\n",
    "print(\"------------------------------------------------------------\")\n",
    "S = np.sum(data,0)\n",
    "S_index = np.where(S == 0)\n",
    "#print(S)\n",
    "#print(S_index)"
   ]
  },
  {
   "cell_type": "markdown",
   "metadata": {},
   "source": [
    "#### Standardization of the data along the row\n",
    "\n",
    "The data is standardized using StandardScaler or MinMaxScaler along the row before inputting the data into the neural network."
   ]
  },
  {
   "cell_type": "code",
   "execution_count": 7,
   "metadata": {
    "scrolled": false
   },
   "outputs": [
    {
     "name": "stdout",
     "output_type": "stream",
     "text": [
      "------------------------------------------------------------\n",
      "(300, 648)\n",
      "------------------------------------------------------------\n",
      "[-0.16809628 -0.09184103 -0.01558578  0.74696674 -0.15962348  0.67071149\n",
      " -0.01558578  2.27207177 -0.15115067  8.29623665 -0.01558578  0.74696674\n",
      " -0.17656909 -0.17656909 -0.17656909 -0.17656909 -0.17656909 -0.17656909\n",
      " -0.17656909 -0.17656909 -0.17656909 -0.17656909 -0.17656909 -0.17656909\n",
      " -0.17656909 -0.17656909 -0.17656909 -0.17656909 -0.17656909 -0.17656909\n",
      " -0.17656909 -0.17656909 -0.17656909 -0.17656909 -0.17656909 -0.17656909\n",
      " -0.17656909 -0.17656909 -0.17656909 -0.17656909 -0.17656909 -0.17656909\n",
      " -0.17656909 -0.17656909 -0.17656909 -0.17656909 -0.17656909 -0.17656909\n",
      " -0.17656909 -0.17656909 -0.17656909 -0.17656909 -0.17656909 -0.17656909\n",
      " -0.17656909 -0.17656909 -0.17656909 -0.17656909 -0.17656909 -0.17656909\n",
      " -0.17656909 -0.17656909 -0.17656909 -0.17656909 -0.17656909 -0.17656909\n",
      " -0.17656909 -0.17656909 -0.17656909 -0.17656909 -0.17656909 -0.17656909\n",
      " -0.17656909 -0.17656909 -0.17656909 -0.17656909 -0.17656909 -0.17656909\n",
      " -0.17656909 -0.17656909 -0.17656909 -0.17656909 -0.17656909 -0.17656909\n",
      " -0.16809628 -0.09184103  0.81474918  1.5773017  -0.15962348  0.67071149\n",
      "  3.23797162  4.00052414 -0.15115067  8.29623665  0.93336846  2.20428932\n",
      " -0.17656909 -0.17656909 -0.17656909 -0.17656909 -0.17656909 -0.17656909\n",
      " -0.17656909 -0.17656909 -0.17656909 -0.17656909 -0.17656909 -0.17656909\n",
      " -0.17656909 -0.17656909 -0.17656909 -0.17656909 -0.17656909 -0.17656909\n",
      " -0.17656909 -0.17656909 -0.17656909 -0.17656909 -0.17656909 -0.17656909\n",
      " -0.17656909 -0.17656909 -0.17656909 -0.17656909 -0.17656909 -0.17656909\n",
      " -0.17656909 -0.17656909 -0.17656909 -0.17656909 -0.17656909 -0.17656909\n",
      " -0.17656909 -0.17656909 -0.17656909 -0.17656909 -0.17656909 -0.17656909\n",
      " -0.17656909 -0.17656909 -0.17656909 -0.17656909 -0.17656909 -0.17656909\n",
      " -0.17656909 -0.17656909 -0.17656909 -0.17656909 -0.17656909 -0.17656909\n",
      " -0.17656909 -0.17656909 -0.17656909 -0.17656909 -0.17656909 -0.17656909\n",
      " -0.17656909 -0.17656909 -0.17656909 -0.17656909 -0.17656909 -0.17656909\n",
      " -0.17656909 -0.17656909 -0.17656909 -0.17656909 -0.17656909 -0.17656909\n",
      " -0.17656909 -0.17656909 -0.17656909 -0.17656909 -0.15962348  0.67071149\n",
      "  4.79696788  5.55952039 -0.15115067  8.29623665  2.44152788  3.2040804\n",
      " -0.17656909 -0.17656909 -0.17656909 -0.17656909 -0.17656909 -0.17656909\n",
      " -0.17656909 -0.17656909 -0.17656909 -0.17656909 -0.17656909 -0.17656909\n",
      " -0.17656909 -0.17656909 -0.17656909 -0.17656909 -0.17656909 -0.17656909\n",
      " -0.17656909 -0.17656909 -0.17656909 -0.17656909 -0.17656909 -0.17656909\n",
      " -0.17656909 -0.17656909 -0.17656909 -0.17656909 -0.17656909 -0.17656909\n",
      " -0.17656909 -0.17656909 -0.17656909 -0.17656909 -0.17656909 -0.17656909\n",
      " -0.17656909 -0.17656909 -0.17656909 -0.17656909 -0.17656909 -0.17656909\n",
      " -0.17656909 -0.17656909 -0.17656909 -0.17656909 -0.17656909 -0.17656909\n",
      " -0.17656909 -0.17656909 -0.17656909 -0.17656909 -0.17656909 -0.17656909\n",
      " -0.17656909 -0.17656909 -0.17656909 -0.17656909 -0.17656909 -0.17656909\n",
      " -0.17656909 -0.17656909 -0.17656909 -0.17656909 -0.17656909 -0.17656909\n",
      " -0.17656909 -0.17656909 -0.17656909 -0.17656909 -0.17656909 -0.17656909\n",
      " -0.17656909 -0.17656909 -0.17656909 -0.17656909 -0.15115067  8.29623665\n",
      "  2.4669463   3.73786716 -0.17656909 -0.17656909 -0.17656909 -0.17656909\n",
      " -0.17656909 -0.17656909 -0.17656909 -0.17656909 -0.17656909 -0.17656909\n",
      " -0.17656909 -0.17656909 -0.17656909 -0.17656909 -0.17656909 -0.17656909\n",
      " -0.17656909 -0.17656909 -0.17656909 -0.17656909 -0.17656909 -0.17656909\n",
      " -0.17656909 -0.17656909 -0.17656909 -0.17656909 -0.17656909 -0.17656909\n",
      " -0.17656909 -0.17656909 -0.17656909 -0.17656909 -0.17656909 -0.17656909\n",
      " -0.17656909 -0.17656909 -0.17656909 -0.17656909 -0.17656909 -0.17656909\n",
      " -0.17656909 -0.17656909 -0.17656909 -0.17656909 -0.17656909 -0.17656909\n",
      " -0.17656909 -0.17656909 -0.17656909 -0.17656909 -0.17656909 -0.17656909\n",
      " -0.17656909 -0.17656909 -0.17656909 -0.17656909 -0.17656909 -0.17656909\n",
      " -0.17656909 -0.17656909 -0.17656909 -0.17656909 -0.17656909 -0.17656909\n",
      " -0.17656909 -0.17656909 -0.17656909 -0.17656909 -0.15115067  8.29623665\n",
      "  3.78023119  4.54278371 -0.17656909 -0.17656909 -0.17656909 -0.17656909\n",
      " -0.17656909 -0.17656909 -0.17656909 -0.17656909 -0.17656909 -0.17656909\n",
      " -0.17656909 -0.17656909 -0.17656909 -0.17656909 -0.17656909 -0.17656909\n",
      " -0.17656909 -0.17656909 -0.17656909 -0.17656909 -0.17656909 -0.17656909\n",
      " -0.17656909 -0.17656909 -0.17656909 -0.17656909 -0.17656909 -0.17656909\n",
      " -0.17656909 -0.17656909 -0.17656909 -0.17656909 -0.17656909 -0.17656909\n",
      " -0.17656909 -0.17656909 -0.17656909 -0.17656909 -0.17656909 -0.17656909\n",
      " -0.17656909 -0.17656909 -0.17656909 -0.17656909 -0.17656909 -0.17656909\n",
      " -0.17656909 -0.17656909 -0.17656909 -0.17656909 -0.17656909 -0.17656909\n",
      " -0.17656909 -0.17656909 -0.17656909 -0.17656909 -0.15115067  8.29623665\n",
      "  4.49194687  5.25449939 -0.17656909 -0.17656909 -0.17656909 -0.17656909\n",
      " -0.17656909 -0.17656909 -0.17656909 -0.17656909 -0.17656909 -0.17656909\n",
      " -0.17656909 -0.17656909 -0.17656909 -0.17656909 -0.17656909 -0.17656909\n",
      " -0.17656909 -0.17656909 -0.17656909 -0.17656909 -0.17656909 -0.17656909\n",
      " -0.17656909 -0.17656909 -0.17656909 -0.17656909 -0.17656909 -0.17656909\n",
      " -0.17656909 -0.17656909 -0.17656909 -0.17656909 -0.17656909 -0.17656909\n",
      " -0.17656909 -0.17656909 -0.17656909 -0.17656909 -0.17656909 -0.17656909\n",
      " -0.17656909 -0.17656909 -0.17656909 -0.17656909 -0.17656909 -0.17656909\n",
      " -0.17656909 -0.17656909 -0.17656909 -0.17656909 -0.17656909 -0.17656909\n",
      " -0.17656909 -0.17656909 -0.17656909 -0.17656909 -0.17656909 -0.17656909\n",
      " -0.17656909 -0.17656909 -0.17656909 -0.17656909 -0.17656909 -0.17656909\n",
      " -0.17656909 -0.17656909 -0.17656909 -0.17656909 -0.17656909 -0.17656909\n",
      " -0.17656909 -0.17656909 -0.17656909 -0.17656909 -0.17656909 -0.17656909\n",
      " -0.17656909 -0.17656909 -0.17656909 -0.17656909 -0.17656909 -0.17656909\n",
      " -0.17656909 -0.17656909 -0.17656909 -0.17656909 -0.17656909 -0.17656909\n",
      " -0.17656909 -0.17656909 -0.17656909 -0.17656909 -0.17656909 -0.17656909\n",
      " -0.17656909 -0.17656909 -0.17656909 -0.17656909 -0.17656909 -0.17656909\n",
      " -0.17656909 -0.17656909 -0.17656909 -0.17656909 -0.17656909 -0.17656909\n",
      " -0.17656909 -0.17656909 -0.17656909 -0.17656909 -0.17656909 -0.17656909\n",
      " -0.17656909 -0.17656909 -0.17656909 -0.17656909 -0.17656909 -0.17656909\n",
      " -0.17656909 -0.17656909 -0.17656909 -0.17656909 -0.17656909 -0.17656909\n",
      " -0.17656909 -0.17656909 -0.17656909 -0.17656909 -0.17656909 -0.17656909\n",
      " -0.17656909 -0.17656909 -0.17656909 -0.17656909 -0.17656909 -0.17656909\n",
      " -0.17656909 -0.17656909 -0.17656909 -0.17656909 -0.17656909 -0.17656909\n",
      " -0.17656909 -0.17656909 -0.17656909 -0.17656909 -0.17656909 -0.17656909\n",
      " -0.17656909 -0.17656909 -0.17656909 -0.17656909 -0.17656909 -0.17656909\n",
      " -0.17656909 -0.17656909 -0.17656909 -0.17656909 -0.17656909 -0.17656909\n",
      " -0.17656909 -0.17656909 -0.17656909 -0.17656909 -0.17656909 -0.17656909\n",
      " -0.17656909 -0.17656909 -0.17656909 -0.17656909 -0.17656909 -0.17656909\n",
      " -0.17656909 -0.17656909 -0.17656909 -0.17656909 -0.17656909 -0.17656909\n",
      " -0.17656909 -0.17656909 -0.17656909 -0.17656909 -0.17656909 -0.17656909\n",
      " -0.17656909 -0.17656909 -0.17656909 -0.17656909 -0.17656909 -0.17656909\n",
      " -0.17656909 -0.17656909 -0.17656909 -0.17656909 -0.17656909 -0.17656909\n",
      " -0.17656909 -0.17656909 -0.17656909 -0.17656909 -0.17656909 -0.17656909\n",
      " -0.17656909 -0.17656909 -0.17656909 -0.17656909 -0.17656909 -0.17656909\n",
      " -0.17656909 -0.17656909 -0.17656909 -0.17656909 -0.17656909 -0.17656909\n",
      " -0.17656909 -0.17656909 -0.17656909 -0.17656909 -0.17656909 -0.17656909\n",
      " -0.17656909 -0.17656909 -0.17656909 -0.17656909 -0.17656909 -0.17656909\n",
      " -0.17656909 -0.17656909 -0.17656909 -0.17656909 -0.17656909 -0.17656909\n",
      " -0.17656909 -0.17656909 -0.17656909 -0.17656909 -0.17656909 -0.17656909\n",
      " -0.17656909 -0.17656909 -0.17656909 -0.17656909 -0.17656909 -0.17656909\n",
      " -0.17656909 -0.17656909 -0.17656909 -0.17656909 -0.17656909 -0.17656909\n",
      " -0.17656909 -0.17656909 -0.17656909 -0.17656909 -0.17656909 -0.17656909]\n",
      "------------------------------------------------------------\n"
     ]
    }
   ],
   "source": [
    "scaler = StandardScaler().fit(data.T)\n",
    "\n",
    "A = scaler.transform(data.T)\n",
    "\n",
    "data = A.T\n",
    "print(\"------------------------------------------------------------\")\n",
    "print(data.shape)\n",
    "print(\"------------------------------------------------------------\")\n",
    "print(data[0])\n",
    "print(\"------------------------------------------------------------\")"
   ]
  },
  {
   "cell_type": "markdown",
   "metadata": {},
   "source": [
    "#### Splitting and preprocessing the Matrix\n",
    "\n",
    "The constructed matrix from the medications and other informations of the prescription is split into training and testing input set.   \n",
    "Similarly, the data on the patient will progress in CKD or not is converted to 1 and 0 respectively and then the data is split into training and testing output set."
   ]
  },
  {
   "cell_type": "code",
   "execution_count": 8,
   "metadata": {},
   "outputs": [
    {
     "name": "stdout",
     "output_type": "stream",
     "text": [
      "------------------------------------------------------------\n",
      "     Stage_Progress\n",
      "203             0.0\n",
      "266             0.0\n",
      "152             0.0\n",
      "9               0.0\n",
      "233             0.0\n",
      "226             0.0\n",
      "196             0.0\n",
      "109             1.0\n",
      "5               0.0\n",
      "175             0.0\n",
      "237             1.0\n",
      "57              1.0\n",
      "218             1.0\n",
      "45              1.0\n",
      "182             1.0\n",
      "221             1.0\n",
      "289             0.0\n",
      "211             0.0\n",
      "148             0.0\n",
      "165             1.0\n",
      "78              0.0\n",
      "113             1.0\n",
      "249             0.0\n",
      "250             0.0\n",
      "104             1.0\n",
      "42              1.0\n",
      "281             1.0\n",
      "295             1.0\n",
      "157             0.0\n",
      "238             0.0\n",
      "------------------------------------------------------------\n",
      "Number of Classes =  2\n",
      "------------------------------------------------------------\n"
     ]
    }
   ],
   "source": [
    "labels=data\n",
    "features = df1[['Stage_Progress']].astype(np.float32)\n",
    "\n",
    "#one_hot_encoded_data = pd.get_dummies(df8[['Stage_Progress']], columns = ['Stage_Progress'])\n",
    "#print(one_hot_encoded_data)\n",
    "\n",
    "#features = one_hot_encoded_data.astype(np.float32)\n",
    "\n",
    "\n",
    "\n",
    "X_train, X_test, y_train, y_test = train_test_split(labels, features, test_size=0.1, random_state=42) \n",
    "\n",
    "print(\"------------------------------------------------------------\")\n",
    "print(y_test)\n",
    "print(\"------------------------------------------------------------\")\n",
    "num_classes = len(np.unique(y_train))\n",
    "print(\"Number of Classes = \", num_classes)\n",
    "print(\"------------------------------------------------------------\")"
   ]
  },
  {
   "cell_type": "markdown",
   "metadata": {},
   "source": [
    "#### Standardization of the data\n",
    "\n",
    "The data is standardized using StandardScaler or MinMaxScaler before inputting the data into the neural network."
   ]
  },
  {
   "cell_type": "code",
   "execution_count": 9,
   "metadata": {},
   "outputs": [
    {
     "name": "stdout",
     "output_type": "stream",
     "text": [
      "------------------------------------------------------------\n",
      "[[-0.99958519 -0.04405739  0.373307   ... -0.27999323 -0.44487116\n",
      "  -0.42668796]\n",
      " [ 0.00577688  1.00421057  1.54459005 ... -0.08936928 -0.10931505\n",
      "  -0.10718167]\n",
      " [ 0.91269327 -0.28667474 -0.36454311 ...  0.14243378  0.29872882\n",
      "   0.28134524]\n",
      " ...\n",
      " [ 0.37038653 -0.36780927 -0.37776427 ...  0.03325602  0.10654277\n",
      "   0.09835155]\n",
      " [ 0.33993985 -0.3723644  -0.37850655 ...  0.02712646  0.09575288\n",
      "   0.08807775]\n",
      " [ 0.55441744  0.1669135  -0.38246085 ... -0.00552738  0.03827218\n",
      "   0.03334638]]\n",
      "------------------------------------------------------------\n"
     ]
    }
   ],
   "source": [
    "scaler = StandardScaler().fit(X_train)\n",
    "\n",
    "A = scaler.transform(X_train)\n",
    "\n",
    "B = scaler.transform(X_test)  \n",
    "\n",
    "X_train = A\n",
    "\n",
    "X_test = B\n",
    "\n",
    "# X_train = X_train.reshape((X_train.shape[0],X_train.shape[1],1))\n",
    "# X_test = X_test.reshape((X_test.shape[0],X_test.shape[1],1))\n",
    "\n",
    "print(\"------------------------------------------------------------\")\n",
    "print(X_train)\n",
    "print(\"------------------------------------------------------------\")"
   ]
  },
  {
   "cell_type": "markdown",
   "metadata": {},
   "source": [
    "#### Reshaping the input training and testing set\n",
    "\n",
    "The input training and testing set is reshaped from two to three dimensional matrix for inputting to the CNN neural networks."
   ]
  },
  {
   "cell_type": "code",
   "execution_count": 18,
   "metadata": {},
   "outputs": [
    {
     "name": "stdout",
     "output_type": "stream",
     "text": [
      "(270, 648, 1)\n",
      "(30, 648, 1)\n"
     ]
    }
   ],
   "source": [
    "X_train = X_train.reshape((X_train.shape[0],X_train.shape[1],1))\n",
    "X_train = np.array(X_train, dtype = float)\n",
    "X_test = X_test.reshape((X_test.shape[0],X_test.shape[1],1)) \n",
    "X_test = np.array(X_test, dtype = float)\n",
    "print(X_train.shape)\n",
    "print(X_test.shape)"
   ]
  },
  {
   "cell_type": "markdown",
   "metadata": {},
   "source": [
    "#### Neural Network 7 (CNN)\n",
    "\n",
    "The basic architecture of neural network based on CNN. "
   ]
  },
  {
   "cell_type": "code",
   "execution_count": 13,
   "metadata": {},
   "outputs": [
    {
     "name": "stdout",
     "output_type": "stream",
     "text": [
      "------------------------------------------------------------\n",
      "_________________________________________________________________\n",
      "Layer (type)                 Output Shape              Param #   \n",
      "=================================================================\n",
      "input_2 (InputLayer)         (None, 648, 1)            0         \n",
      "_________________________________________________________________\n",
      "conv1d_4 (Conv1D)            (None, 648, 64)           256       \n",
      "_________________________________________________________________\n",
      "batch_normalization_4 (Batch (None, 648, 64)           256       \n",
      "_________________________________________________________________\n",
      "re_lu_4 (ReLU)               (None, 648, 64)           0         \n",
      "_________________________________________________________________\n",
      "conv1d_5 (Conv1D)            (None, 648, 64)           12352     \n",
      "_________________________________________________________________\n",
      "batch_normalization_5 (Batch (None, 648, 64)           256       \n",
      "_________________________________________________________________\n",
      "re_lu_5 (ReLU)               (None, 648, 64)           0         \n",
      "_________________________________________________________________\n",
      "conv1d_6 (Conv1D)            (None, 648, 64)           12352     \n",
      "_________________________________________________________________\n",
      "batch_normalization_6 (Batch (None, 648, 64)           256       \n",
      "_________________________________________________________________\n",
      "re_lu_6 (ReLU)               (None, 648, 64)           0         \n",
      "_________________________________________________________________\n",
      "global_average_pooling1d_2 ( (None, 64)                0         \n",
      "_________________________________________________________________\n",
      "dense_2 (Dense)              (None, 2)                 130       \n",
      "=================================================================\n",
      "Total params: 25,858\n",
      "Trainable params: 25,474\n",
      "Non-trainable params: 384\n",
      "_________________________________________________________________\n",
      "------------------------------------------------------------\n"
     ]
    }
   ],
   "source": [
    "print(\"------------------------------------------------------------\")\n",
    "def make_model(input_shape):\n",
    "    input_layer = Input(input_shape)\n",
    "    \n",
    "    conv1 = Conv1D(filters=64, kernel_size=3,padding=\"same\")(input_layer)\n",
    "    conv1 = BatchNormalization()(conv1)\n",
    "    conv1 = ReLU()(conv1)\n",
    "    \n",
    "    conv2 = Conv1D(filters=64, kernel_size=3,padding=\"same\")(conv1)\n",
    "    conv2 = BatchNormalization()(conv2)\n",
    "    conv2 = ReLU()(conv2)\n",
    "    \n",
    "    conv3 = Conv1D(filters=64, kernel_size=3,padding=\"same\")(conv2)\n",
    "    conv3 = BatchNormalization()(conv3)\n",
    "    conv3 = ReLU()(conv3)\n",
    "    \n",
    "    gap = GlobalAveragePooling1D()(conv3)\n",
    "    \n",
    "    output_layer = Dense(num_classes,activation=\"softmax\")(gap)\n",
    "    \n",
    "    return Model(inputs=input_layer, outputs=output_layer)\n",
    "\n",
    "model = make_model(input_shape=X_train.shape[1:])\n",
    "model.summary()\n",
    "#keras.utils.plot_model(model, show_shapes=True)\n",
    "print(\"------------------------------------------------------------\")"
   ]
  },
  {
   "cell_type": "markdown",
   "metadata": {},
   "source": [
    "#### Compiling the Neural Network 7\n",
    "\n",
    "The compilation of the neural network using loss function as sparse categorical crossentropy, optimizer as adam and using sparse categorical accuracy as metric to test the performance of the network."
   ]
  },
  {
   "cell_type": "code",
   "execution_count": 15,
   "metadata": {},
   "outputs": [
    {
     "name": "stdout",
     "output_type": "stream",
     "text": [
      "------------------------------------------------------------\n",
      "Train on 216 samples, validate on 54 samples\n",
      "Epoch 1/20\n",
      "216/216 [==============================] - 2s 11ms/step - loss: 0.7826 - sparse_categorical_accuracy: 0.3935 - val_loss: 0.8440 - val_sparse_categorical_accuracy: 0.2222\n",
      "Epoch 2/20\n",
      "216/216 [==============================] - 2s 7ms/step - loss: 0.6643 - sparse_categorical_accuracy: 0.5880 - val_loss: 0.7070 - val_sparse_categorical_accuracy: 0.5000\n",
      "Epoch 3/20\n",
      "216/216 [==============================] - 2s 8ms/step - loss: 0.6380 - sparse_categorical_accuracy: 0.6574 - val_loss: 0.6243 - val_sparse_categorical_accuracy: 0.7407\n",
      "Epoch 4/20\n",
      "216/216 [==============================] - 2s 8ms/step - loss: 0.6342 - sparse_categorical_accuracy: 0.6574 - val_loss: 0.6131 - val_sparse_categorical_accuracy: 0.7593\n",
      "Epoch 5/20\n",
      "216/216 [==============================] - 1s 7ms/step - loss: 0.6281 - sparse_categorical_accuracy: 0.6574 - val_loss: 0.6154 - val_sparse_categorical_accuracy: 0.7778\n",
      "Epoch 6/20\n",
      "216/216 [==============================] - 2s 8ms/step - loss: 0.6434 - sparse_categorical_accuracy: 0.6667 - val_loss: 0.6106 - val_sparse_categorical_accuracy: 0.7778\n",
      "Epoch 7/20\n",
      "216/216 [==============================] - 2s 7ms/step - loss: 0.6355 - sparse_categorical_accuracy: 0.6574 - val_loss: 0.6011 - val_sparse_categorical_accuracy: 0.7593\n",
      "Epoch 8/20\n",
      "216/216 [==============================] - 2s 7ms/step - loss: 0.6235 - sparse_categorical_accuracy: 0.6620 - val_loss: 0.5913 - val_sparse_categorical_accuracy: 0.7593\n",
      "Epoch 9/20\n",
      "216/216 [==============================] - 1s 7ms/step - loss: 0.6237 - sparse_categorical_accuracy: 0.6667 - val_loss: 0.6149 - val_sparse_categorical_accuracy: 0.7778\n",
      "Epoch 10/20\n",
      "216/216 [==============================] - 1s 6ms/step - loss: 0.6219 - sparse_categorical_accuracy: 0.6713 - val_loss: 0.5946 - val_sparse_categorical_accuracy: 0.7593\n",
      "Epoch 11/20\n",
      "216/216 [==============================] - 1s 6ms/step - loss: 0.6216 - sparse_categorical_accuracy: 0.6620 - val_loss: 0.5964 - val_sparse_categorical_accuracy: 0.7407\n",
      "Epoch 12/20\n",
      "216/216 [==============================] - 2s 9ms/step - loss: 0.6188 - sparse_categorical_accuracy: 0.6713 - val_loss: 0.6127 - val_sparse_categorical_accuracy: 0.7778\n",
      "Epoch 13/20\n",
      "216/216 [==============================] - 2s 7ms/step - loss: 0.6210 - sparse_categorical_accuracy: 0.6898 - val_loss: 0.6115 - val_sparse_categorical_accuracy: 0.7778\n",
      "Epoch 14/20\n",
      "216/216 [==============================] - 1s 7ms/step - loss: 0.6130 - sparse_categorical_accuracy: 0.6759 - val_loss: 0.5842 - val_sparse_categorical_accuracy: 0.7593\n",
      "Epoch 15/20\n",
      "216/216 [==============================] - 2s 9ms/step - loss: 0.6313 - sparse_categorical_accuracy: 0.6620 - val_loss: 0.5934 - val_sparse_categorical_accuracy: 0.7593\n",
      "Epoch 16/20\n",
      "216/216 [==============================] - 2s 8ms/step - loss: 0.6271 - sparse_categorical_accuracy: 0.6667 - val_loss: 0.5928 - val_sparse_categorical_accuracy: 0.7778\n",
      "Epoch 17/20\n",
      "216/216 [==============================] - 2s 8ms/step - loss: 0.6104 - sparse_categorical_accuracy: 0.6759 - val_loss: 0.6220 - val_sparse_categorical_accuracy: 0.7593\n",
      "Epoch 18/20\n",
      "216/216 [==============================] - 2s 7ms/step - loss: 0.6319 - sparse_categorical_accuracy: 0.6667 - val_loss: 0.6109 - val_sparse_categorical_accuracy: 0.7778\n",
      "Epoch 19/20\n",
      "216/216 [==============================] - 2s 7ms/step - loss: 0.6123 - sparse_categorical_accuracy: 0.6759 - val_loss: 0.5824 - val_sparse_categorical_accuracy: 0.7593\n",
      "Epoch 20/20\n",
      "216/216 [==============================] - 2s 7ms/step - loss: 0.6303 - sparse_categorical_accuracy: 0.6620 - val_loss: 0.5802 - val_sparse_categorical_accuracy: 0.7593\n",
      "------------------------------------------------------------\n"
     ]
    }
   ],
   "source": [
    "print(\"------------------------------------------------------------\")\n",
    "epochs =  20\n",
    "batch_size = 32\n",
    "\n",
    "model.compile(\n",
    "    optimizer = \"adam\",\n",
    "    loss = \"sparse_categorical_crossentropy\",\n",
    "    metrics = [\"sparse_categorical_accuracy\"])\n",
    "\n",
    "history = model.fit(X_train, y_train, batch_size = batch_size, epochs=epochs,validation_split=0.2,verbose=1)\n",
    "print(\"------------------------------------------------------------\")"
   ]
  },
  {
   "cell_type": "markdown",
   "metadata": {},
   "source": [
    "#### Evaluating the Neural Network 7 on Test set\n",
    "\n",
    "The trained neural network is evaluated on the test set to check its performance."
   ]
  },
  {
   "cell_type": "code",
   "execution_count": 16,
   "metadata": {},
   "outputs": [
    {
     "name": "stdout",
     "output_type": "stream",
     "text": [
      "------------------------------------------------------------\n",
      "Accuracy from CNN Classifier :  0.6000000238418579\n",
      "------------------------------------------------------------\n"
     ]
    }
   ],
   "source": [
    "y_pred = model.predict(X_test)\n",
    "test_loss,test_acc = model.evaluate(X_test,y_test,verbose=0)\n",
    "print(\"------------------------------------------------------------\")\n",
    "print(\"Accuracy from CNN Classifier : \",test_acc)\n",
    "#print(\"Test loss\",test_loss)\n",
    "print(\"------------------------------------------------------------\")"
   ]
  },
  {
   "cell_type": "markdown",
   "metadata": {},
   "source": [
    "#### Comparison of Accuracy the Neural Network 7 on Training\n",
    "\n",
    "The figure showing the comparison of training and validation accuracy while training CNN neural network."
   ]
  },
  {
   "cell_type": "code",
   "execution_count": 17,
   "metadata": {},
   "outputs": [
    {
     "name": "stdout",
     "output_type": "stream",
     "text": [
      "------------------------------------------------------------\n"
     ]
    },
    {
     "data": {
      "image/png": "[encoded data removed]",
      "text/plain": [
       "<Figure size 720x576 with 1 Axes>"
      ]
     },
     "metadata": {
      "needs_background": "light"
     },
     "output_type": "display_data"
    },
    {
     "name": "stdout",
     "output_type": "stream",
     "text": [
      "------------------------------------------------------------\n"
     ]
    }
   ],
   "source": [
    "print(\"------------------------------------------------------------\")\n",
    "metric = 'sparse_categorical_accuracy'\n",
    "plt.figure(figsize = (10,8))\n",
    "plt.rcParams['font.size'] = '16'\n",
    "plt.plot(history.history[metric])\n",
    "plt.plot(history.history[\"val_\"+metric])\n",
    "plt.title(\"Neural Network (CNN) \",fontsize=30)\n",
    "plt.ylabel(metric,fontsize=15)\n",
    "plt.xlabel(\"epoch\",fontsize=15)\n",
    "plt.legend([\"train\",\"val\"],loc=\"best\")\n",
    "# plt.savefig(\"./AccuracyPlot_CNN_Meds.jpg\", \n",
    "#            bbox_inches =\"tight\", \n",
    "#            pad_inches = 1, \n",
    "#            transparent = True, \n",
    "#            orientation ='landscape')\n",
    "plt.show()\n",
    "plt.close()\n",
    "print(\"------------------------------------------------------------\")"
   ]
  },
  {
   "cell_type": "code",
   "execution_count": null,
   "metadata": {},
   "outputs": [],
   "source": []
  }
 ],
 "metadata": {
  "kernelspec": {
   "display_name": "Python 3",
   "language": "python",
   "name": "python3"
  },
  "language_info": {
   "codemirror_mode": {
    "name": "ipython",
    "version": 3
   },
   "file_extension": ".py",
   "mimetype": "text/x-python",
   "name": "python",
   "nbconvert_exporter": "python",
   "pygments_lexer": "ipython3",
   "version": "3.7.3"
  }
 },
 "nbformat": 4,
 "nbformat_minor": 4
}
