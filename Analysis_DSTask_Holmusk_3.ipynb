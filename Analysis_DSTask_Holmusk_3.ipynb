{
 "cells": [
  {
   "cell_type": "markdown",
   "metadata": {},
   "source": [
    "<h1 align=center><font size=5>Chronic Kidney Disease (CKD)</font></h1>"
   ]
  },
  {
   "cell_type": "markdown",
   "metadata": {},
   "source": [
    "## Predictive Model <a id = 'stats_func'></a> (by CNN Networks)\n",
    "\n",
    "### Using the longitudinal data of different lab measurements and the time it got conducted<a id = 'avg_measure'></a>"
   ]
  },
  {
   "cell_type": "markdown",
   "metadata": {},
   "source": [
    "#### Path\n",
    "\n",
    "The path to the current opened notebook."
   ]
  },
  {
   "cell_type": "code",
   "execution_count": 1,
   "metadata": {},
   "outputs": [
    {
     "data": {
      "text/plain": [
       "'C:\\\\Users\\\\jetin\\\\Desktop\\\\Holmusk_Interview'"
      ]
     },
     "execution_count": 1,
     "metadata": {},
     "output_type": "execute_result"
    }
   ],
   "source": [
    "import os\n",
    "os.getcwd()\n",
    "#os.chdir('../../../Desktop/Lucas_PostDoc/')\n",
    "#os.getcwd()"
   ]
  },
  {
   "cell_type": "markdown",
   "metadata": {},
   "source": [
    "#### Packages needed\n",
    "\n",
    "The packages is loaded which will be useful in the analysis."
   ]
  },
  {
   "cell_type": "code",
   "execution_count": 2,
   "metadata": {},
   "outputs": [],
   "source": [
    "from mpl_toolkits.mplot3d import Axes3D\n",
    "from sklearn.preprocessing import StandardScaler\n",
    "from sklearn.preprocessing import MinMaxScaler\n",
    "import matplotlib.pyplot as plt \n",
    "import numpy as np \n",
    "import os \n",
    "import pandas as pd \n",
    "\n",
    "from sklearn.preprocessing import OneHotEncoder\n",
    "from sklearn.model_selection import train_test_split\n",
    "\n",
    "from tensorflow import keras\n",
    "import keras\n",
    "from keras.models import Sequential\n",
    "from keras.layers import Dense, Embedding, Lambda, Conv1D, BatchNormalization,ReLU,GlobalAveragePooling1D\n",
    "from keras.layers import LSTM, Input,  Reshape, Dropout, Activation\n",
    "from keras.layers import SimpleRNN\n",
    "from keras.models import Model\n",
    "import tensorflow as tf\n",
    "\n",
    "from sklearn.metrics import accuracy_score\n",
    "from sklearn.metrics import confusion_matrix\n",
    "import seaborn as sns\n",
    "from sklearn.metrics import classification_report"
   ]
  },
  {
   "cell_type": "markdown",
   "metadata": {},
   "source": [
    "#### Data File loaded\n",
    "\n",
    "The data file containing the longitudinal data of lab measurements and its time is loaded here and the information in the file is displayed."
   ]
  },
  {
   "cell_type": "code",
   "execution_count": 3,
   "metadata": {},
   "outputs": [
    {
     "name": "stdout",
     "output_type": "stream",
     "text": [
      "----------------------------------------------------\n",
      "There are 1439 rows and 3 columns for creatinine\n",
      "                id        value         time\n",
      "count  1439.000000  1439.000000  1439.000000\n",
      "mean    148.706046     1.328999   293.828353\n",
      "std      87.180040     0.357971   223.600131\n",
      "min       0.000000     0.240000     0.000000\n",
      "25%      73.500000     1.080000    84.000000\n",
      "50%     149.000000     1.290000   296.000000\n",
      "75%     225.000000     1.530000   488.500000\n",
      "max     299.000000     3.020000   699.000000\n",
      "----------------------------------------------------\n",
      "There are 1821 rows and 3 columns for DBP\n",
      "                id        value         time\n",
      "count  1821.000000  1821.000000  1821.000000\n",
      "mean    149.403624    79.518583   305.311917\n",
      "std      87.045934    10.178676   221.674079\n",
      "min       0.000000    44.950000     0.000000\n",
      "25%      74.000000    72.830000    97.000000\n",
      "50%     150.000000    79.050000   301.000000\n",
      "75%     226.000000    86.170000   496.000000\n",
      "max     299.000000   112.930000   699.000000\n",
      "----------------------------------------------------\n",
      "There are 1556 rows and 3 columns for glucose\n",
      "                id        value         time\n",
      "count  1556.000000  1556.000000  1556.000000\n",
      "mean    151.327121     6.694833   291.203085\n",
      "std      87.218956     1.599058   224.893867\n",
      "min       0.000000     2.890000     0.000000\n",
      "25%      77.000000     5.620000    69.000000\n",
      "50%     152.000000     6.360000   295.000000\n",
      "75%     227.000000     7.440000   488.000000\n",
      "max     299.000000    16.610000   699.000000\n",
      "----------------------------------------------------\n",
      "There are 2025 rows and 3 columns for HGB\n",
      "                id        value         time\n",
      "count  2025.000000  2025.000000  2025.000000\n",
      "mean    147.617284    13.825185   598.223704\n",
      "std      87.979281     1.644946   425.010281\n",
      "min       0.000000     8.820000     0.000000\n",
      "25%      70.000000    12.670000   198.000000\n",
      "50%     147.000000    13.920000   599.000000\n",
      "75%     226.000000    14.980000   954.000000\n",
      "max     299.000000    19.000000  1429.000000\n",
      "----------------------------------------------------\n",
      "There are 1261 rows and 3 columns for 1dl\n",
      "                id        value         time\n",
      "count  1261.000000  1261.000000  1261.000000\n",
      "mean    151.641554    87.558795   287.464711\n",
      "std      87.811658    28.156104   225.557967\n",
      "min       0.000000    26.100000     0.000000\n",
      "25%      75.000000    67.290000     6.000000\n",
      "50%     154.000000    83.960000   286.000000\n",
      "75%     228.000000   105.140000   483.000000\n",
      "max     299.000000   198.590000   699.000000\n",
      "----------------------------------------------------\n",
      "There are 1809 rows and 3 columns for SBP\n",
      "                id        value         time\n",
      "count  1809.000000  1809.000000  1809.000000\n",
      "mean    149.213378   134.155368   304.796020\n",
      "std      87.130959    14.765817   221.718474\n",
      "min       0.000000    91.990000     0.000000\n",
      "25%      74.000000   124.630000    97.000000\n",
      "50%     150.000000   133.440000   301.000000\n",
      "75%     226.000000   143.160000   495.000000\n",
      "max     299.000000   211.090000   699.000000\n",
      "----------------------------------------------------\n"
     ]
    }
   ],
   "source": [
    "nRowsRead = 2000 # specify 'None' if want to read whole file\n",
    "# Hourly-test.csv may have more rows in reality, but we are only loading/previewing the first 1000 rows\n",
    "df1 = pd.read_csv('./dataScienceTask/T_creatinine.csv', delimiter=',', nrows = nRowsRead)\n",
    "df1.dataframeName = 'T_creatinine.csv'\n",
    "nRow_tn, nCol_tn = df1.shape\n",
    "print(\"----------------------------------------------------\")\n",
    "print(f'There are {nRow_tn} rows and {nCol_tn} columns for creatinine')\n",
    "print(df1.describe())\n",
    "print(\"----------------------------------------------------\")\n",
    "\n",
    "nRowsRead = 2000 # specify 'None' if want to read whole file\n",
    "# Hourly-test.csv may have more rows in reality, but we are only loading/previewing the first 1000 rows\n",
    "df2 = pd.read_csv('./dataScienceTask/T_DBP.csv', delimiter=',', nrows = nRowsRead)\n",
    "df2.dataframeName = 'T_DBP.csv'\n",
    "nRow_tn, nCol_tn = df2.shape\n",
    "print(f'There are {nRow_tn} rows and {nCol_tn} columns for DBP')\n",
    "print(df2.describe())\n",
    "print(\"----------------------------------------------------\")\n",
    "\n",
    "nRowsRead = 2000 # specify 'None' if want to read whole file\n",
    "# Hourly-test.csv may have more rows in reality, but we are only loading/previewing the first 1000 rows\n",
    "df3 = pd.read_csv('./dataScienceTask/T_glucose.csv', delimiter=',', nrows = nRowsRead)\n",
    "df3.dataframeName = 'T_glucose.csv'\n",
    "nRow_tn, nCol_tn = df3.shape\n",
    "print(f'There are {nRow_tn} rows and {nCol_tn} columns for glucose')\n",
    "print(df3.describe())\n",
    "print(\"----------------------------------------------------\")\n",
    "\n",
    "nRowsRead = 3000 # specify 'None' if want to read whole file\n",
    "# Hourly-test.csv may have more rows in reality, but we are only loading/previewing the first 1000 rows\n",
    "df4 = pd.read_csv('./dataScienceTask/T_HGB.csv', delimiter=',', nrows = nRowsRead)\n",
    "df4.dataframeName = 'T_HGB.csv'\n",
    "nRow_tn, nCol_tn = df4.shape\n",
    "print(f'There are {nRow_tn} rows and {nCol_tn} columns for HGB')\n",
    "print(df4.describe())\n",
    "print(\"----------------------------------------------------\")\n",
    "\n",
    "nRowsRead = 3000 # specify 'None' if want to read whole file\n",
    "# Hourly-test.csv may have more rows in reality, but we are only loading/previewing the first 1000 rows\n",
    "df5 = pd.read_csv('./dataScienceTask/T_ldl.csv', delimiter=',', nrows = nRowsRead)\n",
    "df5.dataframeName = 'T_ldl.csv'\n",
    "nRow_tn, nCol_tn = df5.shape\n",
    "print(f'There are {nRow_tn} rows and {nCol_tn} columns for 1dl')\n",
    "print(df5.describe())\n",
    "print(\"----------------------------------------------------\")\n",
    "\n",
    "nRowsRead = 2000 # specify 'None' if want to read whole file\n",
    "# Hourly-test.csv may have more rows in reality, but we are only loading/previewing the first 1000 rows\n",
    "df6 = pd.read_csv('./dataScienceTask/T_SBP.csv', delimiter=',', nrows = nRowsRead)\n",
    "df6.dataframeName = 'T_SBP.csv'\n",
    "nRow_tn, nCol_tn = df6.shape\n",
    "print(f'There are {nRow_tn} rows and {nCol_tn} columns for SBP')\n",
    "print(df6.describe())\n",
    "print(\"----------------------------------------------------\")"
   ]
  },
  {
   "cell_type": "markdown",
   "metadata": {},
   "source": [
    "#### Data File loaded\n",
    "\n",
    "The data file containing the longitudinal data of lab measurements and its time is loaded here and the information in the file is displayed."
   ]
  },
  {
   "cell_type": "code",
   "execution_count": 4,
   "metadata": {},
   "outputs": [
    {
     "name": "stdout",
     "output_type": "stream",
     "text": [
      "----------------------------------------------------\n",
      "There are 300 rows and 2 columns for stage progress\n",
      "False    200\n",
      "True     100\n",
      "Name: Stage_Progress, dtype: int64\n",
      "----------------------------------------------------\n"
     ]
    }
   ],
   "source": [
    "nRowsRead = 1000 # specify 'None' if want to read whole file\n",
    "# Hourly-test.csv may have more rows in reality, but we are only loading/previewing the first 1000 rows\n",
    "df7 = pd.read_csv('./dataScienceTask/T_stage.csv', delimiter=',', nrows = nRowsRead)\n",
    "df7.dataframeName = 'T_stage.csv'\n",
    "nRow_tn, nCol_tn = df7.shape\n",
    "print(\"----------------------------------------------------\")\n",
    "print(f'There are {nRow_tn} rows and {nCol_tn} columns for stage progress')\n",
    "print(df7['Stage_Progress'].value_counts())\n",
    "print(\"----------------------------------------------------\")"
   ]
  },
  {
   "cell_type": "markdown",
   "metadata": {},
   "source": [
    "#### Matrix consisting of the lab measurements placed at the conducted time.\n",
    "\n",
    "A matrix consisting of the lab measurements whose entry in the matrix is decided by the time this measurment is conducted for each person \n",
    "along the row of this matrix."
   ]
  },
  {
   "cell_type": "code",
   "execution_count": 5,
   "metadata": {},
   "outputs": [
    {
     "name": "stdout",
     "output_type": "stream",
     "text": [
      "------------------------------------------------------------\n",
      "[[1.29 0.   0.   ... 0.   0.   0.  ]\n",
      " [1.74 0.   0.   ... 0.   0.   0.  ]\n",
      " [2.51 0.   0.   ... 0.   0.   0.  ]\n",
      " ...\n",
      " [1.25 0.   0.   ... 0.   0.   0.  ]\n",
      " [1.03 0.   0.   ... 0.   0.   0.  ]\n",
      " [1.12 0.   0.   ... 0.   0.   0.  ]]\n",
      "------------------------------------------------------------\n",
      "(array([   9,   10,   11, ..., 4997, 4998, 4999], dtype=int64),)\n",
      "------------------------------------------------------------\n",
      "[[1.29 0.   0.   ... 0.   0.   0.  ]\n",
      " [1.74 0.   0.   ... 0.   0.   0.  ]\n",
      " [2.51 0.   0.   ... 0.   0.   0.  ]\n",
      " ...\n",
      " [1.25 0.   0.   ... 0.   0.   0.  ]\n",
      " [1.03 0.   0.   ... 0.   0.   0.  ]\n",
      " [1.12 0.   0.   ... 0.   0.   0.  ]]\n",
      "------------------------------------------------------------\n"
     ]
    }
   ],
   "source": [
    "tot_persons=300\n",
    "data = np.zeros((tot_persons, 5000))\n",
    "index1 = 0\n",
    "\n",
    "# C = df.race.unique()\n",
    "# D = df.gender.unique()\n",
    "\n",
    "# for i in range(len(C)):\n",
    "#     df[['race']] = df[['race']].replace(to_replace = C[i], value = i)\n",
    "      \n",
    "# for i in range(len(D)):\n",
    "#     df[['gender']] = df[['gender']].replace(to_replace = D[i], value = i)\n",
    "        \n",
    "# print(df)\n",
    "\n",
    "# list_race = df['race']\n",
    "# list_gender = df['gender']\n",
    "# list_age = df['age']\n",
    "# for person in range(0,tot_persons): \n",
    "#     list4 = df.index[df['id'] == person].tolist()\n",
    "#     for index in range(len(list4)):\n",
    "#         data[person][0] = list_race[list4[index]]\n",
    "#         data[person][1] = list_gender[list4[index]]   \n",
    "#         data[person][2] = list_age[list4[index]]\n",
    "        \n",
    "list_time = df1['time']\n",
    "list_val = df1['value']\n",
    "max_time = 0\n",
    "for person in range(0,tot_persons): \n",
    "    list4 = df1.index[df1['id'] == person].tolist()\n",
    "    for index in range(len(list4)):\n",
    "        data[person][list_time[list4[index]]] = list_val[list4[index]]  \n",
    "        if list_time[list4[index]]>max_time:\n",
    "            max_time =list_time[list4[index]]\n",
    "        \n",
    "        \n",
    "list_time = df2['time']\n",
    "list_val = df2['value']\n",
    "max_time1 = 0\n",
    "for person in range(0,tot_persons): \n",
    "    list4 = df2.index[df2['id'] == person].tolist()\n",
    "    for index in range(len(list4)):\n",
    "        data[person][max_time+list_time[list4[index]]] = list_val[list4[index]]  \n",
    "        if list_time[list4[index]]>max_time1:\n",
    "            max_time1 =list_time[list4[index]]\n",
    "            \n",
    "            \n",
    "list_time = df3['time']\n",
    "list_val = df3['value']\n",
    "max_time2=0\n",
    "for person in range(0,tot_persons): \n",
    "    list4 = df3.index[df3['id'] == person].tolist()\n",
    "    for index in range(len(list4)):\n",
    "        data[person][max_time+max_time1+list_time[list4[index]]] = list_val[list4[index]]  \n",
    "        if list_time[list4[index]]>max_time2:\n",
    "            max_time2 =list_time[list4[index]]  \n",
    "        \n",
    "list_time = df4['time']\n",
    "list_val = df4['value']\n",
    "max_time3=0\n",
    "for person in range(0,tot_persons): \n",
    "    list4 = df4.index[df4['id'] == person].tolist()\n",
    "    for index in range(len(list4)):\n",
    "        data[person][max_time+max_time1+max_time2+list_time[list4[index]]] = list_val[list4[index]]  \n",
    "        if list_time[list4[index]]>max_time3:\n",
    "            max_time3 =list_time[list4[index]]           \n",
    "        \n",
    "list_time = df5['time']\n",
    "list_val = df5['value']\n",
    "max_time4 = 0\n",
    "for person in range(0,tot_persons): \n",
    "    list4 = df5.index[df5['id'] == person].tolist()\n",
    "    for index in range(len(list4)):\n",
    "        data[person][max_time+max_time1+max_time2+max_time3+list_time[list4[index]]] = list_val[list4[index]]  \n",
    "        if list_time[list4[index]]>max_time4:\n",
    "            max_time4 =list_time[list4[index]]            \n",
    "        \n",
    "list_time = df6['time']\n",
    "list_val = df6['value']\n",
    "max_time5 = 0\n",
    "for person in range(0,tot_persons): \n",
    "    list4 = df6.index[df6['id'] == person].tolist()\n",
    "    for index in range(len(list4)):\n",
    "        data[person][max_time+max_time1+max_time2+max_time3+max_time4+list_time[list4[index]]] = list_val[list4[index]]  \n",
    "        if list_time[list4[index]]>max_time5:\n",
    "            max_time5 =list_time[list4[index]]    \n",
    "\n",
    "print(\"------------------------------------------------------------\")               \n",
    "print(data) \n",
    "print(\"------------------------------------------------------------\")   \n",
    "\n",
    "S = np.sum(data,0)\n",
    "S_index = np.where(S == 0)\n",
    "#print(S)\n",
    "print(S_index)\n",
    "print(\"------------------------------------------------------------\")\n",
    "data = np.delete(data,S_index,1)\n",
    "print(data)\n",
    "print(\"------------------------------------------------------------\")\n",
    "S = np.sum(data,0)\n",
    "S_index = np.where(S == 0)\n",
    "#print(S)\n",
    "#print(S_index)"
   ]
  },
  {
   "cell_type": "markdown",
   "metadata": {},
   "source": [
    "#### Standardization of the data along the row\n",
    "\n",
    "The data is standardized using StandardScaler or MinMaxScaler along the row before inputting the data into the neural network."
   ]
  },
  {
   "cell_type": "code",
   "execution_count": 6,
   "metadata": {},
   "outputs": [
    {
     "name": "stdout",
     "output_type": "stream",
     "text": [
      "------------------------------------------------------------\n",
      "(300, 3632)\n",
      "------------------------------------------------------------\n",
      "[ 0.07280927 -0.07507747 -0.07507747 ... -0.07507747 -0.07507747\n",
      " -0.07507747]\n",
      "------------------------------------------------------------\n"
     ]
    }
   ],
   "source": [
    "scaler = StandardScaler().fit(data.T)\n",
    "\n",
    "A = scaler.transform(data.T)\n",
    "\n",
    "data = A.T\n",
    "print(\"------------------------------------------------------------\")\n",
    "print(data.shape)\n",
    "print(\"------------------------------------------------------------\")\n",
    "print(data[0])\n",
    "print(\"------------------------------------------------------------\")"
   ]
  },
  {
   "cell_type": "markdown",
   "metadata": {},
   "source": [
    "#### Splitting and preprocessing the Matrix\n",
    "\n",
    "The constructed matrix from lab measurements placed at the conducted time is split into training and testing input set.   \n",
    "Similarly, the data on the patient will progress in CKD or not is converted to 1 and 0 respectively and then the data is split into training and testing output set."
   ]
  },
  {
   "cell_type": "code",
   "execution_count": 7,
   "metadata": {},
   "outputs": [
    {
     "name": "stdout",
     "output_type": "stream",
     "text": [
      "------------------------------------------------------------\n",
      "     Stage_Progress\n",
      "203             0.0\n",
      "266             0.0\n",
      "152             0.0\n",
      "9               0.0\n",
      "233             0.0\n",
      "226             0.0\n",
      "196             0.0\n",
      "109             1.0\n",
      "5               0.0\n",
      "175             0.0\n",
      "237             1.0\n",
      "57              1.0\n",
      "218             1.0\n",
      "45              1.0\n",
      "182             1.0\n",
      "221             1.0\n",
      "289             0.0\n",
      "211             0.0\n",
      "148             0.0\n",
      "165             1.0\n",
      "78              0.0\n",
      "113             1.0\n",
      "249             0.0\n",
      "250             0.0\n",
      "104             1.0\n",
      "42              1.0\n",
      "281             1.0\n",
      "295             1.0\n",
      "157             0.0\n",
      "238             0.0\n",
      "------------------------------------------------------------\n",
      "Number of Classes =  2\n",
      "------------------------------------------------------------\n"
     ]
    }
   ],
   "source": [
    "labels=data\n",
    "features = df7[['Stage_Progress']].astype(np.float32)\n",
    "\n",
    "#one_hot_encoded_data = pd.get_dummies(df8[['Stage_Progress']], columns = ['Stage_Progress'])\n",
    "#print(one_hot_encoded_data)\n",
    "\n",
    "#features = one_hot_encoded_data.astype(np.float32)\n",
    "\n",
    "\n",
    "\n",
    "X_train, X_test, y_train, y_test = train_test_split(labels, features, test_size=0.1, random_state=42) \n",
    "\n",
    "print(\"------------------------------------------------------------\")\n",
    "print(y_test)\n",
    "print(\"------------------------------------------------------------\")\n",
    "num_classes = len(np.unique(y_train))\n",
    "print(\"Number of Classes = \", num_classes)\n",
    "print(\"------------------------------------------------------------\")"
   ]
  },
  {
   "cell_type": "markdown",
   "metadata": {},
   "source": [
    "#### Standardization of the data\n",
    "\n",
    "The data is standardized using StandardScaler or MinMaxScaler before inputting the data into the neural network."
   ]
  },
  {
   "cell_type": "code",
   "execution_count": 8,
   "metadata": {},
   "outputs": [
    {
     "name": "stdout",
     "output_type": "stream",
     "text": [
      "------------------------------------------------------------\n",
      "[[ 0.29283055 -0.41317941 -0.47802105 ... -1.13234569 -0.06789702\n",
      "  -0.09130349]\n",
      " [-0.64803914 -0.38960216 -0.44638381 ... -1.03336675 -0.06729326\n",
      "  -0.09087292]\n",
      " [-1.15896642 -0.22158279 -0.22092629 ... -0.3280098  -0.06299073\n",
      "  -0.08780452]\n",
      " ...\n",
      " [-0.52079009 -0.32558649 -0.36048411 ... -0.76462455 -0.06565399\n",
      "  -0.08970385]\n",
      " [ 1.56090252  0.43386096  0.65858375 ...  2.42358855 -0.04620653\n",
      "  -0.07583471]\n",
      " [ 0.18217423 -0.33188232 -0.36893219 ... -0.79105485 -0.06581521\n",
      "  -0.08981883]]\n",
      "------------------------------------------------------------\n"
     ]
    }
   ],
   "source": [
    "scaler = StandardScaler().fit(X_train)\n",
    "\n",
    "A = scaler.transform(X_train)\n",
    "\n",
    "B = scaler.transform(X_test)  \n",
    "\n",
    "X_train = A\n",
    "\n",
    "X_test = B\n",
    "\n",
    "# X_train = X_train.reshape((X_train.shape[0],X_train.shape[1],1))\n",
    "# X_test = X_test.reshape((X_test.shape[0],X_test.shape[1],1))\n",
    "\n",
    "print(\"------------------------------------------------------------\")\n",
    "print(X_train)\n",
    "print(\"------------------------------------------------------------\")"
   ]
  },
  {
   "cell_type": "markdown",
   "metadata": {},
   "source": [
    "#### Reshaping the input training and testing set\n",
    "\n",
    "The input training and testing set is reshaped from two to three dimensional matrix for inputting to the CNN neural networks."
   ]
  },
  {
   "cell_type": "code",
   "execution_count": 9,
   "metadata": {},
   "outputs": [
    {
     "name": "stdout",
     "output_type": "stream",
     "text": [
      "(270, 3632, 1)\n",
      "(30, 3632, 1)\n"
     ]
    }
   ],
   "source": [
    "X_train = X_train.reshape((X_train.shape[0],X_train.shape[1],1))\n",
    "X_train = np.array(X_train, dtype = float)\n",
    "X_test = X_test.reshape((X_test.shape[0],X_test.shape[1],1)) \n",
    "X_test = np.array(X_test, dtype = float)\n",
    "print(X_train.shape)\n",
    "print(X_test.shape)"
   ]
  },
  {
   "cell_type": "markdown",
   "metadata": {},
   "source": [
    "#### Neural Network 7 (CNN)\n",
    "\n",
    "The basic architecture of neural network based on CNN. "
   ]
  },
  {
   "cell_type": "code",
   "execution_count": 12,
   "metadata": {},
   "outputs": [
    {
     "name": "stdout",
     "output_type": "stream",
     "text": [
      "------------------------------------------------------------\n",
      "_________________________________________________________________\n",
      "Layer (type)                 Output Shape              Param #   \n",
      "=================================================================\n",
      "input_2 (InputLayer)         (None, 3632, 1)           0         \n",
      "_________________________________________________________________\n",
      "conv1d_4 (Conv1D)            (None, 3632, 64)          256       \n",
      "_________________________________________________________________\n",
      "batch_normalization_4 (Batch (None, 3632, 64)          256       \n",
      "_________________________________________________________________\n",
      "re_lu_4 (ReLU)               (None, 3632, 64)          0         \n",
      "_________________________________________________________________\n",
      "conv1d_5 (Conv1D)            (None, 3632, 64)          12352     \n",
      "_________________________________________________________________\n",
      "batch_normalization_5 (Batch (None, 3632, 64)          256       \n",
      "_________________________________________________________________\n",
      "re_lu_5 (ReLU)               (None, 3632, 64)          0         \n",
      "_________________________________________________________________\n",
      "conv1d_6 (Conv1D)            (None, 3632, 64)          12352     \n",
      "_________________________________________________________________\n",
      "batch_normalization_6 (Batch (None, 3632, 64)          256       \n",
      "_________________________________________________________________\n",
      "re_lu_6 (ReLU)               (None, 3632, 64)          0         \n",
      "_________________________________________________________________\n",
      "global_average_pooling1d_2 ( (None, 64)                0         \n",
      "_________________________________________________________________\n",
      "dense_2 (Dense)              (None, 2)                 130       \n",
      "=================================================================\n",
      "Total params: 25,858\n",
      "Trainable params: 25,474\n",
      "Non-trainable params: 384\n",
      "_________________________________________________________________\n",
      "------------------------------------------------------------\n"
     ]
    }
   ],
   "source": [
    "print(\"------------------------------------------------------------\")\n",
    "def make_model(input_shape):\n",
    "    input_layer = Input(input_shape)\n",
    "    \n",
    "    conv1 = Conv1D(filters=64, kernel_size=3,padding=\"same\")(input_layer)\n",
    "    conv1 = BatchNormalization()(conv1)\n",
    "    conv1 = ReLU()(conv1)\n",
    "    \n",
    "    conv2 = Conv1D(filters=64, kernel_size=3,padding=\"same\")(conv1)\n",
    "    conv2 = BatchNormalization()(conv2)\n",
    "    conv2 = ReLU()(conv2)\n",
    "    \n",
    "    conv3 = Conv1D(filters=64, kernel_size=3,padding=\"same\")(conv2)\n",
    "    conv3 = BatchNormalization()(conv3)\n",
    "    conv3 = ReLU()(conv3)\n",
    "    \n",
    "    gap = GlobalAveragePooling1D()(conv3)\n",
    "    \n",
    "    output_layer = Dense(num_classes,activation=\"softmax\")(gap)\n",
    "    \n",
    "    return Model(inputs=input_layer, outputs=output_layer)\n",
    "\n",
    "model = make_model(input_shape=X_train.shape[1:])\n",
    "model.summary()\n",
    "#keras.utils.plot_model(model, show_shapes=True)\n",
    "print(\"------------------------------------------------------------\")"
   ]
  },
  {
   "cell_type": "markdown",
   "metadata": {},
   "source": [
    "#### Compiling the Neural Network 7\n",
    "\n",
    "The compilation of the neural network using loss function as sparse categorical crossentropy, optimizer as adam and using sparse categorical accuracy as metric to test the performance of the network."
   ]
  },
  {
   "cell_type": "code",
   "execution_count": 13,
   "metadata": {},
   "outputs": [
    {
     "name": "stdout",
     "output_type": "stream",
     "text": [
      "------------------------------------------------------------\n",
      "Train on 216 samples, validate on 54 samples\n",
      "Epoch 1/20\n",
      "216/216 [==============================] - 12s 55ms/step - loss: 0.6799 - sparse_categorical_accuracy: 0.5833 - val_loss: 0.6252 - val_sparse_categorical_accuracy: 0.7593\n",
      "Epoch 2/20\n",
      "216/216 [==============================] - 9s 42ms/step - loss: 0.6422 - sparse_categorical_accuracy: 0.6574 - val_loss: 0.5764 - val_sparse_categorical_accuracy: 0.7593\n",
      "Epoch 3/20\n",
      "216/216 [==============================] - 9s 41ms/step - loss: 0.6402 - sparse_categorical_accuracy: 0.6389 - val_loss: 0.5741 - val_sparse_categorical_accuracy: 0.6667\n",
      "Epoch 4/20\n",
      "216/216 [==============================] - 9s 43ms/step - loss: 0.6408 - sparse_categorical_accuracy: 0.6574 - val_loss: 0.5728 - val_sparse_categorical_accuracy: 0.7593\n",
      "Epoch 5/20\n",
      "216/216 [==============================] - 9s 41ms/step - loss: 0.6368 - sparse_categorical_accuracy: 0.6574 - val_loss: 0.5891 - val_sparse_categorical_accuracy: 0.7778\n",
      "Epoch 6/20\n",
      "216/216 [==============================] - 9s 43ms/step - loss: 0.6425 - sparse_categorical_accuracy: 0.6528 - val_loss: 0.5875 - val_sparse_categorical_accuracy: 0.7778\n",
      "Epoch 7/20\n",
      "216/216 [==============================] - 9s 43ms/step - loss: 0.6378 - sparse_categorical_accuracy: 0.6574 - val_loss: 0.5724 - val_sparse_categorical_accuracy: 0.7593\n",
      "Epoch 8/20\n",
      "216/216 [==============================] - 9s 42ms/step - loss: 0.6381 - sparse_categorical_accuracy: 0.6574 - val_loss: 0.5580 - val_sparse_categorical_accuracy: 0.7593\n",
      "Epoch 9/20\n",
      "216/216 [==============================] - 9s 41ms/step - loss: 0.6358 - sparse_categorical_accuracy: 0.6574 - val_loss: 0.5705 - val_sparse_categorical_accuracy: 0.7778\n",
      "Epoch 10/20\n",
      "216/216 [==============================] - 11s 52ms/step - loss: 0.6353 - sparse_categorical_accuracy: 0.6574 - val_loss: 0.5690 - val_sparse_categorical_accuracy: 0.7593\n",
      "Epoch 11/20\n",
      "216/216 [==============================] - 11s 50ms/step - loss: 0.6353 - sparse_categorical_accuracy: 0.6574 - val_loss: 0.5666 - val_sparse_categorical_accuracy: 0.7593\n",
      "Epoch 12/20\n",
      "216/216 [==============================] - 9s 40ms/step - loss: 0.6365 - sparse_categorical_accuracy: 0.6574 - val_loss: 0.5696 - val_sparse_categorical_accuracy: 0.7593\n",
      "Epoch 13/20\n",
      "216/216 [==============================] - 9s 44ms/step - loss: 0.6346 - sparse_categorical_accuracy: 0.6574 - val_loss: 0.5580 - val_sparse_categorical_accuracy: 0.7593\n",
      "Epoch 14/20\n",
      "216/216 [==============================] - 9s 43ms/step - loss: 0.6332 - sparse_categorical_accuracy: 0.6574 - val_loss: 0.5643 - val_sparse_categorical_accuracy: 0.7593\n",
      "Epoch 15/20\n",
      "216/216 [==============================] - 9s 41ms/step - loss: 0.6327 - sparse_categorical_accuracy: 0.6528 - val_loss: 0.5559 - val_sparse_categorical_accuracy: 0.7593\n",
      "Epoch 16/20\n",
      "216/216 [==============================] - 10s 45ms/step - loss: 0.6340 - sparse_categorical_accuracy: 0.6574 - val_loss: 0.5469 - val_sparse_categorical_accuracy: 0.7593\n",
      "Epoch 17/20\n",
      "216/216 [==============================] - 9s 41ms/step - loss: 0.6371 - sparse_categorical_accuracy: 0.6574 - val_loss: 0.5455 - val_sparse_categorical_accuracy: 0.7593\n",
      "Epoch 18/20\n",
      "216/216 [==============================] - 9s 43ms/step - loss: 0.6354 - sparse_categorical_accuracy: 0.6574 - val_loss: 0.5542 - val_sparse_categorical_accuracy: 0.7593\n",
      "Epoch 19/20\n",
      "216/216 [==============================] - 9s 42ms/step - loss: 0.6334 - sparse_categorical_accuracy: 0.6574 - val_loss: 0.5606 - val_sparse_categorical_accuracy: 0.7593\n",
      "Epoch 20/20\n",
      "216/216 [==============================] - 10s 46ms/step - loss: 0.6325 - sparse_categorical_accuracy: 0.6574 - val_loss: 0.5579 - val_sparse_categorical_accuracy: 0.7593\n",
      "------------------------------------------------------------\n"
     ]
    }
   ],
   "source": [
    "print(\"------------------------------------------------------------\")\n",
    "epochs =  20\n",
    "batch_size = 32\n",
    "\n",
    "model.compile(\n",
    "    optimizer = \"adam\",\n",
    "    loss = \"sparse_categorical_crossentropy\",\n",
    "    metrics = [\"sparse_categorical_accuracy\"])\n",
    "\n",
    "history = model.fit(X_train, y_train, batch_size = batch_size, epochs=epochs,validation_split=0.2,verbose=1)\n",
    "print(\"------------------------------------------------------------\")"
   ]
  },
  {
   "cell_type": "markdown",
   "metadata": {},
   "source": [
    "#### Evaluating the Neural Network 7 on Test set\n",
    "\n",
    "The trained neural network is evaluated on the test set to check its performance."
   ]
  },
  {
   "cell_type": "code",
   "execution_count": 14,
   "metadata": {},
   "outputs": [
    {
     "name": "stdout",
     "output_type": "stream",
     "text": [
      "------------------------------------------------------------\n",
      "Accuracy from CNN Classifier :  0.46666666865348816\n",
      "------------------------------------------------------------\n"
     ]
    }
   ],
   "source": [
    "y_pred = model.predict(X_test)\n",
    "test_loss,test_acc = model.evaluate(X_test,y_test,verbose=0)\n",
    "print(\"------------------------------------------------------------\")\n",
    "print(\"Accuracy from CNN Classifier : \",test_acc)\n",
    "#print(\"Test loss\",test_loss)\n",
    "print(\"------------------------------------------------------------\")"
   ]
  },
  {
   "cell_type": "markdown",
   "metadata": {},
   "source": [
    "#### Comparison of Accuracy the Neural Network 7 on Training\n",
    "\n",
    "The figure showing the comparison of training and validation accuracy while training CNN neural network."
   ]
  },
  {
   "cell_type": "code",
   "execution_count": 15,
   "metadata": {},
   "outputs": [
    {
     "name": "stdout",
     "output_type": "stream",
     "text": [
      "------------------------------------------------------------\n"
     ]
    },
    {
     "data": {
      "image/png": "[encoded data removed]",
      "text/plain": [
       "<Figure size 720x576 with 1 Axes>"
      ]
     },
     "metadata": {
      "needs_background": "light"
     },
     "output_type": "display_data"
    },
    {
     "name": "stdout",
     "output_type": "stream",
     "text": [
      "------------------------------------------------------------\n"
     ]
    }
   ],
   "source": [
    "print(\"------------------------------------------------------------\")\n",
    "metric = 'sparse_categorical_accuracy'\n",
    "plt.figure(figsize = (10,8))\n",
    "plt.rcParams['font.size'] = '16'\n",
    "plt.plot(history.history[metric])\n",
    "plt.plot(history.history[\"val_\"+metric])\n",
    "plt.title(\"Neural Network (CNN) \",fontsize=30)\n",
    "plt.ylabel(metric,fontsize=15)\n",
    "plt.xlabel(\"epoch\",fontsize=15)\n",
    "plt.legend([\"train\",\"val\"],loc=\"best\")\n",
    "# plt.savefig(\"./AccuracyPlot_CNN_LabMeasnotime.jpg\", \n",
    "#            bbox_inches =\"tight\", \n",
    "#            pad_inches = 1, \n",
    "#            transparent = True, \n",
    "#            orientation ='landscape')\n",
    "plt.show()\n",
    "plt.close()\n",
    "print(\"------------------------------------------------------------\")"
   ]
  },
  {
   "cell_type": "code",
   "execution_count": null,
   "metadata": {},
   "outputs": [],
   "source": []
  }
 ],
 "metadata": {
  "kernelspec": {
   "display_name": "Python 3",
   "language": "python",
   "name": "python3"
  },
  "language_info": {
   "codemirror_mode": {
    "name": "ipython",
    "version": 3
   },
   "file_extension": ".py",
   "mimetype": "text/x-python",
   "name": "python",
   "nbconvert_exporter": "python",
   "pygments_lexer": "ipython3",
   "version": "3.7.3"
  }
 },
 "nbformat": 4,
 "nbformat_minor": 4
}
