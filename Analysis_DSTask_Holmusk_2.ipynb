{
 "cells": [
  {
   "cell_type": "markdown",
   "metadata": {},
   "source": [
    "<h1 align=center><font size=5>Chronic Kidney Disease (CKD)</font></h1>"
   ]
  },
  {
   "cell_type": "markdown",
   "metadata": {},
   "source": [
    "## Predictive Model <a id = 'stats_func'></a> (by RNN Networks)\n",
    "\n",
    "### Using the longitudinal data of different lab measurements and the time it got conducted<a id = 'avg_measure'></a>"
   ]
  },
  {
   "cell_type": "markdown",
   "metadata": {},
   "source": [
    "#### Path\n",
    "\n",
    "The path to the current opened notebook."
   ]
  },
  {
   "cell_type": "code",
   "execution_count": 1,
   "metadata": {},
   "outputs": [
    {
     "data": {
      "text/plain": [
       "'C:\\\\Users\\\\jetin\\\\Desktop\\\\Holmusk_Interview'"
      ]
     },
     "execution_count": 1,
     "metadata": {},
     "output_type": "execute_result"
    }
   ],
   "source": [
    "import os\n",
    "os.getcwd()\n",
    "#os.chdir('../../../Desktop/Lucas_PostDoc/')\n",
    "#os.getcwd()"
   ]
  },
  {
   "cell_type": "markdown",
   "metadata": {},
   "source": [
    "#### Packages needed\n",
    "\n",
    "The packages is loaded which will be useful in the analysis."
   ]
  },
  {
   "cell_type": "code",
   "execution_count": 3,
   "metadata": {},
   "outputs": [],
   "source": [
    "from mpl_toolkits.mplot3d import Axes3D\n",
    "from sklearn.preprocessing import StandardScaler\n",
    "from sklearn.preprocessing import MinMaxScaler\n",
    "import matplotlib.pyplot as plt\n",
    "import numpy as np\n",
    "import os\n",
    "import pandas as pd\n",
    "\n",
    "from sklearn.preprocessing import OneHotEncoder\n",
    "from sklearn.model_selection import train_test_split\n",
    "\n",
    "import keras\n",
    "from keras.models import Sequential\n",
    "from keras.layers import Dense, Embedding, Lambda\n",
    "from keras.layers import LSTM, Input,  Reshape, Dropout, Activation\n",
    "from keras.layers import SimpleRNN\n",
    "from keras.models import Model\n",
    "import tensorflow as tf\n",
    "\n",
    "from sklearn.metrics import accuracy_score\n",
    "from sklearn.metrics import confusion_matrix\n",
    "import seaborn as sns\n",
    "from sklearn.metrics import classification_report\n",
    "\n",
    "from cwrnn import ClockworkRNN"
   ]
  },
  {
   "cell_type": "markdown",
   "metadata": {},
   "source": [
    "#### Data File loaded\n",
    "\n",
    "The data file containing the longitudinal data of lab measurements and its time is loaded here and the information in the file is displayed."
   ]
  },
  {
   "cell_type": "code",
   "execution_count": 4,
   "metadata": {},
   "outputs": [
    {
     "name": "stdout",
     "output_type": "stream",
     "text": [
      "----------------------------------------------------\n",
      "There are 1439 rows and 3 columns for creatinine\n",
      "                id        value         time\n",
      "count  1439.000000  1439.000000  1439.000000\n",
      "mean    148.706046     1.328999   293.828353\n",
      "std      87.180040     0.357971   223.600131\n",
      "min       0.000000     0.240000     0.000000\n",
      "25%      73.500000     1.080000    84.000000\n",
      "50%     149.000000     1.290000   296.000000\n",
      "75%     225.000000     1.530000   488.500000\n",
      "max     299.000000     3.020000   699.000000\n",
      "----------------------------------------------------\n",
      "There are 1821 rows and 3 columns for DBP\n",
      "                id        value         time\n",
      "count  1821.000000  1821.000000  1821.000000\n",
      "mean    149.403624    79.518583   305.311917\n",
      "std      87.045934    10.178676   221.674079\n",
      "min       0.000000    44.950000     0.000000\n",
      "25%      74.000000    72.830000    97.000000\n",
      "50%     150.000000    79.050000   301.000000\n",
      "75%     226.000000    86.170000   496.000000\n",
      "max     299.000000   112.930000   699.000000\n",
      "----------------------------------------------------\n",
      "There are 1556 rows and 3 columns for glucose\n",
      "                id        value         time\n",
      "count  1556.000000  1556.000000  1556.000000\n",
      "mean    151.327121     6.694833   291.203085\n",
      "std      87.218956     1.599058   224.893867\n",
      "min       0.000000     2.890000     0.000000\n",
      "25%      77.000000     5.620000    69.000000\n",
      "50%     152.000000     6.360000   295.000000\n",
      "75%     227.000000     7.440000   488.000000\n",
      "max     299.000000    16.610000   699.000000\n",
      "----------------------------------------------------\n",
      "There are 2025 rows and 3 columns for HGB\n",
      "                id        value         time\n",
      "count  2025.000000  2025.000000  2025.000000\n",
      "mean    147.617284    13.825185   598.223704\n",
      "std      87.979281     1.644946   425.010281\n",
      "min       0.000000     8.820000     0.000000\n",
      "25%      70.000000    12.670000   198.000000\n",
      "50%     147.000000    13.920000   599.000000\n",
      "75%     226.000000    14.980000   954.000000\n",
      "max     299.000000    19.000000  1429.000000\n",
      "----------------------------------------------------\n",
      "There are 1261 rows and 3 columns for 1dl\n",
      "                id        value         time\n",
      "count  1261.000000  1261.000000  1261.000000\n",
      "mean    151.641554    87.558795   287.464711\n",
      "std      87.811658    28.156104   225.557967\n",
      "min       0.000000    26.100000     0.000000\n",
      "25%      75.000000    67.290000     6.000000\n",
      "50%     154.000000    83.960000   286.000000\n",
      "75%     228.000000   105.140000   483.000000\n",
      "max     299.000000   198.590000   699.000000\n",
      "----------------------------------------------------\n",
      "There are 1809 rows and 3 columns for SBP\n",
      "                id        value         time\n",
      "count  1809.000000  1809.000000  1809.000000\n",
      "mean    149.213378   134.155368   304.796020\n",
      "std      87.130959    14.765817   221.718474\n",
      "min       0.000000    91.990000     0.000000\n",
      "25%      74.000000   124.630000    97.000000\n",
      "50%     150.000000   133.440000   301.000000\n",
      "75%     226.000000   143.160000   495.000000\n",
      "max     299.000000   211.090000   699.000000\n",
      "----------------------------------------------------\n"
     ]
    }
   ],
   "source": [
    "nRowsRead = 2000 # specify 'None' if want to read whole file\n",
    "# Hourly-test.csv may have more rows in reality, but we are only loading/previewing the first 1000 rows\n",
    "df1 = pd.read_csv('./dataScienceTask/T_creatinine.csv', delimiter=',', nrows = nRowsRead)\n",
    "df1.dataframeName = 'T_creatinine.csv'\n",
    "nRow_tn, nCol_tn = df1.shape\n",
    "print(\"----------------------------------------------------\")\n",
    "print(f'There are {nRow_tn} rows and {nCol_tn} columns for creatinine')\n",
    "print(df1.describe())\n",
    "print(\"----------------------------------------------------\")\n",
    "\n",
    "nRowsRead = 2000 # specify 'None' if want to read whole file\n",
    "# Hourly-test.csv may have more rows in reality, but we are only loading/previewing the first 1000 rows\n",
    "df2 = pd.read_csv('./dataScienceTask/T_DBP.csv', delimiter=',', nrows = nRowsRead)\n",
    "df2.dataframeName = 'T_DBP.csv'\n",
    "nRow_tn, nCol_tn = df2.shape\n",
    "print(f'There are {nRow_tn} rows and {nCol_tn} columns for DBP')\n",
    "print(df2.describe())\n",
    "print(\"----------------------------------------------------\")\n",
    "\n",
    "nRowsRead = 2000 # specify 'None' if want to read whole file\n",
    "# Hourly-test.csv may have more rows in reality, but we are only loading/previewing the first 1000 rows\n",
    "df3 = pd.read_csv('./dataScienceTask/T_glucose.csv', delimiter=',', nrows = nRowsRead)\n",
    "df3.dataframeName = 'T_glucose.csv'\n",
    "nRow_tn, nCol_tn = df3.shape\n",
    "print(f'There are {nRow_tn} rows and {nCol_tn} columns for glucose')\n",
    "print(df3.describe())\n",
    "print(\"----------------------------------------------------\")\n",
    "\n",
    "nRowsRead = 3000 # specify 'None' if want to read whole file\n",
    "# Hourly-test.csv may have more rows in reality, but we are only loading/previewing the first 1000 rows\n",
    "df4 = pd.read_csv('./dataScienceTask/T_HGB.csv', delimiter=',', nrows = nRowsRead)\n",
    "df4.dataframeName = 'T_HGB.csv'\n",
    "nRow_tn, nCol_tn = df4.shape\n",
    "print(f'There are {nRow_tn} rows and {nCol_tn} columns for HGB')\n",
    "print(df4.describe())\n",
    "print(\"----------------------------------------------------\")\n",
    "\n",
    "nRowsRead = 3000 # specify 'None' if want to read whole file\n",
    "# Hourly-test.csv may have more rows in reality, but we are only loading/previewing the first 1000 rows\n",
    "df5 = pd.read_csv('./dataScienceTask/T_ldl.csv', delimiter=',', nrows = nRowsRead)\n",
    "df5.dataframeName = 'T_ldl.csv'\n",
    "nRow_tn, nCol_tn = df5.shape\n",
    "print(f'There are {nRow_tn} rows and {nCol_tn} columns for 1dl')\n",
    "print(df5.describe())\n",
    "print(\"----------------------------------------------------\")\n",
    "\n",
    "nRowsRead = 2000 # specify 'None' if want to read whole file\n",
    "# Hourly-test.csv may have more rows in reality, but we are only loading/previewing the first 1000 rows\n",
    "df6 = pd.read_csv('./dataScienceTask/T_SBP.csv', delimiter=',', nrows = nRowsRead)\n",
    "df6.dataframeName = 'T_SBP.csv'\n",
    "nRow_tn, nCol_tn = df6.shape\n",
    "print(f'There are {nRow_tn} rows and {nCol_tn} columns for SBP')\n",
    "print(df6.describe())\n",
    "print(\"----------------------------------------------------\")"
   ]
  },
  {
   "cell_type": "markdown",
   "metadata": {},
   "source": [
    "#### Data File loaded\n",
    "\n",
    "The data file containing the output information is loaded here whether the considered patient will progress in CKD or not."
   ]
  },
  {
   "cell_type": "code",
   "execution_count": 5,
   "metadata": {},
   "outputs": [
    {
     "name": "stdout",
     "output_type": "stream",
     "text": [
      "----------------------------------------------------\n",
      "There are 300 rows and 2 columns for stage progress\n",
      "False    200\n",
      "True     100\n",
      "Name: Stage_Progress, dtype: int64\n",
      "----------------------------------------------------\n"
     ]
    }
   ],
   "source": [
    "nRowsRead = 1000 # specify 'None' if want to read whole file\n",
    "# Hourly-test.csv may have more rows in reality, but we are only loading/previewing the first 1000 rows\n",
    "df7 = pd.read_csv('./dataScienceTask/T_stage.csv', delimiter=',', nrows = nRowsRead)\n",
    "df7.dataframeName = 'T_stage.csv'\n",
    "nRow_tn, nCol_tn = df7.shape\n",
    "print(\"----------------------------------------------------\")\n",
    "print(f'There are {nRow_tn} rows and {nCol_tn} columns for stage progress')\n",
    "print(df7['Stage_Progress'].value_counts())\n",
    "print(\"----------------------------------------------------\")"
   ]
  },
  {
   "cell_type": "markdown",
   "metadata": {},
   "source": [
    "#### Matrix consisting of the lab measurements and the conducted time.\n",
    "\n",
    "A matrix consisting of the lab measurements and the time this measurment is conducted for each person \n",
    "in a row of this matrix."
   ]
  },
  {
   "cell_type": "code",
   "execution_count": 6,
   "metadata": {},
   "outputs": [
    {
     "name": "stdout",
     "output_type": "stream",
     "text": [
      "------------------------------------------------------------\n",
      "[[  0. 107. 286. ...  -1.  -1.  -1.]\n",
      " [  0.  68. 289. ...  -1.  -1.  -1.]\n",
      " [  0. 184. 430. ...  -1.  -1.  -1.]\n",
      " ...\n",
      " [  0. 117. 303. ...  -1.  -1.  -1.]\n",
      " [  0.  86. 217. ...  -1.  -1.  -1.]\n",
      " [  0. 531. 652. ...  -1.  -1.  -1.]]\n",
      "------------------------------------------------------------\n",
      "(array([ 10,  11,  12,  13,  14,  15,  16,  17,  18,  19,  20,  21,  22,\n",
      "        23,  24,  35,  36,  37,  38,  39,  40,  41,  42,  43,  44,  45,\n",
      "        46,  47,  48,  49,  61,  62,  63,  64,  65,  66,  67,  68,  69,\n",
      "        70,  71,  72,  73,  74,  86,  87,  88,  89,  90,  91,  92,  93,\n",
      "        94,  95,  96,  97,  98,  99, 108, 109, 110, 111, 112, 113, 114,\n",
      "       115, 116, 117, 118, 119, 120, 121, 122, 123, 124, 133, 134, 135,\n",
      "       136, 137, 138, 139, 140, 141, 142, 143, 144, 145, 146, 147, 148,\n",
      "       149, 172, 173, 174, 197, 198, 199, 208, 209, 210, 211, 212, 213,\n",
      "       214, 215, 216, 217, 218, 219, 220, 221, 222, 223, 224, 233, 234,\n",
      "       235, 236, 237, 238, 239, 240, 241, 242, 243, 244, 245, 246, 247,\n",
      "       248, 249, 258, 259, 260, 261, 262, 263, 264, 265, 266, 267, 268,\n",
      "       269, 270, 271, 272, 273, 274, 283, 284, 285, 286, 287, 288, 289,\n",
      "       290, 291, 292, 293, 294, 295, 296, 297, 298, 299, 300, 301, 302],\n",
      "      dtype=int64),)\n",
      "------------------------------------------------------------\n",
      "[[  0.   107.   286.   ... 154.91 154.28 147.5 ]\n",
      " [  0.    68.   289.   ... 155.76 149.66  -1.  ]\n",
      " [  0.   184.   430.   ...  -1.    -1.    -1.  ]\n",
      " ...\n",
      " [  0.   117.   303.   ... 148.63 125.04 136.79]\n",
      " [  0.    86.   217.   ...  -1.    -1.    -1.  ]\n",
      " [  0.   531.   652.   ... 141.68 113.38  -1.  ]]\n",
      "------------------------------------------------------------\n"
     ]
    }
   ],
   "source": [
    "tot_persons=300\n",
    "data = -np.ones((tot_persons, 3+50*6))\n",
    "index1 = 0\n",
    "\n",
    "# C = df.race.unique()\n",
    "# D = df.gender.unique()\n",
    "\n",
    "# for i in range(len(C)):\n",
    "#     df[['race']] = df[['race']].replace(to_replace = C[i], value = i)\n",
    "      \n",
    "# for i in range(len(D)):\n",
    "#     df[['gender']] = df[['gender']].replace(to_replace = D[i], value = i)\n",
    "        \n",
    "# print(df)\n",
    "\n",
    "# list_race = df['race']\n",
    "# list_gender = df['gender']\n",
    "# list_age = df['age']\n",
    "# for person in range(0,tot_persons): \n",
    "#     list4 = df.index[df['id'] == person].tolist()\n",
    "#     for index in range(len(list4)):\n",
    "#         data[person][0] = list_race[list4[index]]\n",
    "#         data[person][1] = list_gender[list4[index]]   \n",
    "#         data[person][2] = list_age[list4[index]]\n",
    "        \n",
    "list_time = df1['time']\n",
    "list_val = df1['value']\n",
    "for person in range(0,tot_persons): \n",
    "    list4 = df1.index[df1['id'] == person].tolist()\n",
    "    for index in range(len(list4)):\n",
    "        data[person][index1+index] = list_time[list4[index]]\n",
    "        data[person][index1+index+25] = list_val[list4[index]]    \n",
    "        \n",
    "list_time = df2['time']\n",
    "list_val = df2['value']\n",
    "for person in range(0,tot_persons): \n",
    "    list4 = df2.index[df2['id'] == person].tolist()\n",
    "    for index in range(len(list4)):\n",
    "        data[person][index1+50+index] = list_time[list4[index]]\n",
    "        data[person][index1+50+index+25] = list_val[list4[index]]    \n",
    "        \n",
    "list_time = df3['time']\n",
    "list_val = df3['value']\n",
    "for person in range(0,tot_persons): \n",
    "    list4 = df3.index[df3['id'] == person].tolist()\n",
    "    for index in range(len(list4)):\n",
    "        data[person][index1+50*2+index] = list_time[list4[index]]\n",
    "        data[person][index1+50*2+index+25] = list_val[list4[index]]    \n",
    "        \n",
    "list_time = df4['time']\n",
    "list_val = df4['value']\n",
    "for person in range(0,tot_persons): \n",
    "    list4 = df4.index[df4['id'] == person].tolist()\n",
    "    for index in range(len(list4)):\n",
    "        data[person][index1+50*3+index] = list_time[list4[index]]\n",
    "        data[person][index1+50*3+index+25] = list_val[list4[index]]            \n",
    "        \n",
    "list_time = df5['time']\n",
    "list_val = df5['value']\n",
    "for person in range(0,tot_persons): \n",
    "    list4 = df5.index[df5['id'] == person].tolist()\n",
    "    for index in range(len(list4)):\n",
    "        data[person][index1+50*4+index] = list_time[list4[index]]\n",
    "        data[person][index1+50*4+index+25] = list_val[list4[index]]       \n",
    "        \n",
    "list_time = df6['time']\n",
    "list_val = df6['value']\n",
    "for person in range(0,tot_persons): \n",
    "    list4 = df6.index[df6['id'] == person].tolist()\n",
    "    for index in range(len(list4)):\n",
    "        data[person][index1+50*5+index] = list_time[list4[index]]\n",
    "        data[person][index1+50*5+index+25] = list_val[list4[index]]\n",
    "\n",
    "print(\"------------------------------------------------------------\")        \n",
    "print(data) \n",
    "print(\"------------------------------------------------------------\")\n",
    "\n",
    "S = np.sum(data,0)\n",
    "S_index = np.where(S == -300)\n",
    "#print(S)\n",
    "print(S_index)\n",
    "print(\"------------------------------------------------------------\")\n",
    "data = np.delete(data,S_index,1)\n",
    "print(data)\n",
    "print(\"------------------------------------------------------------\")\n",
    "S = np.sum(data,0)\n",
    "S_index = np.where(S == -300)\n",
    "#print(S)\n",
    "#print(S_index)"
   ]
  },
  {
   "cell_type": "markdown",
   "metadata": {},
   "source": [
    "#### Standardization of the data along the row\n",
    "\n",
    "The data is standardized using StandardScaler or MinMaxScaler along the row before inputting the data into the neural network."
   ]
  },
  {
   "cell_type": "code",
   "execution_count": 7,
   "metadata": {},
   "outputs": [
    {
     "name": "stdout",
     "output_type": "stream",
     "text": [
      "------------------------------------------------------------\n",
      "(300, 134)\n",
      "------------------------------------------------------------\n",
      "[-0.566938   -0.130906    0.5985307   0.98973698  1.79659992  2.23670698\n",
      " -0.57101306 -0.57101306 -0.57101306 -0.57101306 -0.56168116 -0.56225167\n",
      " -0.5610699  -0.56192567 -0.56253693 -0.56192567 -0.57101306 -0.57101306\n",
      " -0.57101306 -0.57101306 -0.566938   -0.16758159  0.57000524  0.98158685\n",
      "  1.36871806  1.79659992  2.19595633  2.20003139 -0.57101306 -0.57101306\n",
      " -0.57101306 -0.17850276 -0.22471401 -0.29810593 -0.22703679 -0.2148931\n",
      " -0.20979927 -0.24749362 -0.22345074 -0.57101306 -0.57101306 -0.57101306\n",
      " -0.566938   -0.130906    0.5985307   0.98973698  1.79659992  2.23670698\n",
      " -0.57101306 -0.57101306 -0.54150959 -0.53759753 -0.53837179 -0.5388608\n",
      " -0.54403613 -0.54338412 -0.57101306 -0.57101306 -0.566938   -0.130906\n",
      "  0.5985307   0.98973698  2.23670698  2.62383819  3.04764499  3.81783235\n",
      "  4.30684019 -0.57101306 -0.57101306 -0.57101306 -0.57101306 -0.57101306\n",
      " -0.57101306 -0.57101306 -0.57101306 -0.57101306 -0.57101306 -0.57101306\n",
      " -0.57101306 -0.57101306 -0.51188386 -0.51237287 -0.51461416 -0.51265813\n",
      " -0.51180236 -0.51249512 -0.51546992 -0.51131335 -0.51343239 -0.57101306\n",
      " -0.57101306 -0.57101306 -0.57101306 -0.57101306 -0.57101306 -0.57101306\n",
      " -0.57101306 -0.57101306 -0.57101306 -0.57101306 -0.57101306 -0.57101306\n",
      " -0.566938   -0.130906    0.98973698 -0.57101306 -0.57101306 -0.57101306\n",
      " -0.57101306 -0.57101306  0.09114431 -0.11301646  0.07651483 -0.57101306\n",
      " -0.57101306 -0.57101306 -0.57101306 -0.57101306 -0.566938   -0.16758159\n",
      "  0.57000524  0.98158685  1.36871806  1.79659992  2.19595633  2.20003139\n",
      " -0.02043098 -0.021898   -0.05722882 -0.00967281 -0.03514196  0.06433038\n",
      "  0.06176309  0.03413415]\n",
      "------------------------------------------------------------\n"
     ]
    }
   ],
   "source": [
    "scaler = StandardScaler().fit(data.T)\n",
    "\n",
    "A = scaler.transform(data.T)\n",
    "\n",
    "data = A.T\n",
    "print(\"------------------------------------------------------------\")\n",
    "print(data.shape)\n",
    "print(\"------------------------------------------------------------\")\n",
    "print(data[0])\n",
    "print(\"------------------------------------------------------------\")"
   ]
  },
  {
   "cell_type": "markdown",
   "metadata": {},
   "source": [
    "#### Splitting and preprocessing the Matrix\n",
    "\n",
    "The constructed matrix from lab measurements and the time is split into training and testing input set.   \n",
    "Similarly, the data on the patient will progress in CKD or not is converted to 1 and 0 respectively and then the data is split into training and testing output set."
   ]
  },
  {
   "cell_type": "code",
   "execution_count": 8,
   "metadata": {
    "scrolled": false
   },
   "outputs": [
    {
     "name": "stdout",
     "output_type": "stream",
     "text": [
      "------------------------------------------------------------\n",
      "     Stage_Progress\n",
      "203             0.0\n",
      "266             0.0\n",
      "152             0.0\n",
      "9               0.0\n",
      "233             0.0\n",
      "226             0.0\n",
      "196             0.0\n",
      "109             1.0\n",
      "5               0.0\n",
      "175             0.0\n",
      "237             1.0\n",
      "57              1.0\n",
      "218             1.0\n",
      "45              1.0\n",
      "182             1.0\n",
      "221             1.0\n",
      "289             0.0\n",
      "211             0.0\n",
      "148             0.0\n",
      "165             1.0\n",
      "78              0.0\n",
      "113             1.0\n",
      "249             0.0\n",
      "250             0.0\n",
      "104             1.0\n",
      "42              1.0\n",
      "281             1.0\n",
      "295             1.0\n",
      "157             0.0\n",
      "238             0.0\n",
      "------------------------------------------------------------\n"
     ]
    }
   ],
   "source": [
    "labels=data\n",
    "features = df7[['Stage_Progress']].astype(np.float32)\n",
    "\n",
    "#one_hot_encoded_data = pd.get_dummies(df8[['Stage_Progress']], columns = ['Stage_Progress'])\n",
    "#print(one_hot_encoded_data)\n",
    "\n",
    "#features = one_hot_encoded_data.astype(np.float32)\n",
    "\n",
    "\n",
    "\n",
    "X_train, X_test, y_train, y_test = train_test_split(labels, features, test_size=0.1, random_state=42) \n",
    "\n",
    "print(\"------------------------------------------------------------\")\n",
    "print(y_test)\n",
    "print(\"------------------------------------------------------------\")"
   ]
  },
  {
   "cell_type": "markdown",
   "metadata": {},
   "source": [
    "#### Standardization of the data\n",
    "\n",
    "The data is standardized using StandardScaler or MinMaxScaler before inputting the data into the neural network."
   ]
  },
  {
   "cell_type": "code",
   "execution_count": 9,
   "metadata": {},
   "outputs": [
    {
     "name": "stdout",
     "output_type": "stream",
     "text": [
      "------------------------------------------------------------\n",
      "[[-0.96508906 -1.35493188 -0.60816634 ...  1.21516779  1.23043748\n",
      "   3.04946829]\n",
      " [-1.54940655 -0.05218043 -1.06496651 ...  0.84728914  1.43105224\n",
      "   2.26937296]\n",
      " [ 0.16129715 -0.67460168 -0.25361501 ...  1.06044827 -0.93204384\n",
      "  -0.48024629]\n",
      " ...\n",
      " [-1.45164447  0.92349157 -0.38692475 ...  0.01645836  0.40248734\n",
      "  -1.027175  ]\n",
      " [ 1.67624698  2.40085827  2.8062852  ... -0.91845722 -0.55140706\n",
      "   0.03527006]\n",
      " [-0.64092885 -0.06051569 -0.02812783 ...  0.56515598  0.84027769\n",
      "  -0.75400825]]\n",
      "------------------------------------------------------------\n"
     ]
    }
   ],
   "source": [
    "scaler = StandardScaler().fit(X_train)\n",
    "\n",
    "A = scaler.transform(X_train)\n",
    "\n",
    "B = scaler.transform(X_test)  \n",
    "\n",
    "X_train = A\n",
    "\n",
    "X_test = B\n",
    "\n",
    "# X_train = X_train.reshape((X_train.shape[0],X_train.shape[1],1))\n",
    "# X_test = X_test.reshape((X_test.shape[0],X_test.shape[1],1))\n",
    "\n",
    "print(\"------------------------------------------------------------\")\n",
    "print(X_train)\n",
    "print(\"------------------------------------------------------------\")"
   ]
  },
  {
   "cell_type": "markdown",
   "metadata": {},
   "source": [
    "#### Reshaping the input training and testing set\n",
    "\n",
    "The input training and testing set is reshaped from two to three dimensional matrix for inputting to the RNN neural networks."
   ]
  },
  {
   "cell_type": "code",
   "execution_count": 10,
   "metadata": {},
   "outputs": [
    {
     "name": "stdout",
     "output_type": "stream",
     "text": [
      "(270, 134, 1)\n",
      "(30, 134, 1)\n"
     ]
    }
   ],
   "source": [
    "X_train = X_train.reshape((X_train.shape[0],X_train.shape[1],1))\n",
    "X_train = np.array(X_train, dtype = float)\n",
    "X_test = X_test.reshape((X_test.shape[0],X_test.shape[1],1)) \n",
    "X_test = np.array(X_test, dtype = float)\n",
    "print(X_train.shape)\n",
    "print(X_test.shape)"
   ]
  },
  {
   "cell_type": "markdown",
   "metadata": {},
   "source": [
    "#### Neural Network 5 (Simple RNN and LSTM)\n",
    "\n",
    "The basic architecture of neural network based on Simple RNN and LSTM. "
   ]
  },
  {
   "cell_type": "code",
   "execution_count": 17,
   "metadata": {},
   "outputs": [
    {
     "name": "stdout",
     "output_type": "stream",
     "text": [
      "------------------------------------------------------------\n",
      "_________________________________________________________________\n",
      "Layer (type)                 Output Shape              Param #   \n",
      "=================================================================\n",
      "simple_rnn_9 (SimpleRNN)     (None, 134, 1)            3         \n",
      "_________________________________________________________________\n",
      "simple_rnn_10 (SimpleRNN)    (None, 134, 1)            3         \n",
      "_________________________________________________________________\n",
      "lstm_2 (LSTM)                (None, 100)               40800     \n",
      "_________________________________________________________________\n",
      "dense_9 (Dense)              (None, 1000)              101000    \n",
      "_________________________________________________________________\n",
      "dense_10 (Dense)             (None, 1)                 1001      \n",
      "=================================================================\n",
      "Total params: 142,807\n",
      "Trainable params: 142,807\n",
      "Non-trainable params: 0\n",
      "_________________________________________________________________\n",
      "------------------------------------------------------------\n"
     ]
    }
   ],
   "source": [
    "print(\"------------------------------------------------------------\")\n",
    "#RNN Model\n",
    "model = Sequential()\n",
    "model.add(SimpleRNN((1),batch_input_shape=(None,X_train.shape[1],1),return_sequences=True))\n",
    "model.add(SimpleRNN((1),batch_input_shape=(None,None,1),return_sequences=True))\n",
    "#model.add(SimpleRNN((48),batch_input_shape=(None,None,1),return_sequences=False))\n",
    "model.add(LSTM((100),dropout = 0.2, batch_input_shape=(None,None,1),return_sequences=False))\n",
    "#model.add(LSTM((48),batch_input_shape=(None,None,1),return_sequences=True))\n",
    "#model.add(LSTM((48),batch_input_shape=(None,None,1),return_sequences=False))\n",
    "#model.add(LSTM((48),return_sequences=False))\n",
    "#opt = keras.optimizers.Adam()\n",
    "model.add(Dense(1000, activation='sigmoid'))\n",
    "model.add(Dense(1, activation='sigmoid'))\n",
    "model.summary()\n",
    "print(\"------------------------------------------------------------\")"
   ]
  },
  {
   "cell_type": "markdown",
   "metadata": {},
   "source": [
    "#### Compiling the Neural Network 5\n",
    "\n",
    "The compilation of the neural network using loss function as binary crossentropy, optimizer as adam and using accuracy as metric to test the performance of the network."
   ]
  },
  {
   "cell_type": "code",
   "execution_count": 18,
   "metadata": {},
   "outputs": [
    {
     "name": "stdout",
     "output_type": "stream",
     "text": [
      "------------------------------------------------------------\n",
      "Train on 216 samples, validate on 54 samples\n",
      "Epoch 1/20\n",
      "216/216 [==============================] - 3s 12ms/step - loss: 0.6722 - acc: 0.6389 - val_loss: 0.5510 - val_acc: 0.7593\n",
      "Epoch 2/20\n",
      "216/216 [==============================] - 1s 5ms/step - loss: 0.6708 - acc: 0.6343 - val_loss: 0.6533 - val_acc: 0.6296\n",
      "Epoch 3/20\n",
      "216/216 [==============================] - 1s 4ms/step - loss: 0.6428 - acc: 0.6667 - val_loss: 0.5465 - val_acc: 0.7593\n",
      "Epoch 4/20\n",
      "216/216 [==============================] - 1s 5ms/step - loss: 0.6507 - acc: 0.6574 - val_loss: 0.5613 - val_acc: 0.7593\n",
      "Epoch 5/20\n",
      "216/216 [==============================] - 1s 4ms/step - loss: 0.6350 - acc: 0.6574 - val_loss: 0.5813 - val_acc: 0.7593\n",
      "Epoch 6/20\n",
      "216/216 [==============================] - 1s 5ms/step - loss: 0.6294 - acc: 0.6574 - val_loss: 0.5619 - val_acc: 0.7593\n",
      "Epoch 7/20\n",
      "216/216 [==============================] - 1s 5ms/step - loss: 0.6370 - acc: 0.6574 - val_loss: 0.5649 - val_acc: 0.7593\n",
      "Epoch 8/20\n",
      "216/216 [==============================] - 1s 5ms/step - loss: 0.6251 - acc: 0.6574 - val_loss: 0.5653 - val_acc: 0.7593\n",
      "Epoch 9/20\n",
      "216/216 [==============================] - 1s 5ms/step - loss: 0.6485 - acc: 0.6806 - val_loss: 0.5738 - val_acc: 0.7037\n",
      "Epoch 10/20\n",
      "216/216 [==============================] - 1s 4ms/step - loss: 0.6225 - acc: 0.6898 - val_loss: 0.5642 - val_acc: 0.6852\n",
      "Epoch 11/20\n",
      "216/216 [==============================] - 1s 5ms/step - loss: 0.6249 - acc: 0.6620 - val_loss: 0.5949 - val_acc: 0.6667\n",
      "Epoch 12/20\n",
      "216/216 [==============================] - 1s 4ms/step - loss: 0.6246 - acc: 0.6898 - val_loss: 0.5585 - val_acc: 0.7593\n",
      "Epoch 13/20\n",
      "216/216 [==============================] - 1s 4ms/step - loss: 0.6389 - acc: 0.6528 - val_loss: 0.5690 - val_acc: 0.6852\n",
      "Epoch 14/20\n",
      "216/216 [==============================] - 1s 4ms/step - loss: 0.6736 - acc: 0.6296 - val_loss: 0.5933 - val_acc: 0.7593\n",
      "Epoch 15/20\n",
      "216/216 [==============================] - 1s 5ms/step - loss: 0.6604 - acc: 0.6481 - val_loss: 0.5410 - val_acc: 0.7593\n",
      "Epoch 16/20\n",
      "216/216 [==============================] - 1s 5ms/step - loss: 0.6402 - acc: 0.6435 - val_loss: 0.6263 - val_acc: 0.7222\n",
      "Epoch 17/20\n",
      "216/216 [==============================] - 1s 5ms/step - loss: 0.6379 - acc: 0.6574 - val_loss: 0.5555 - val_acc: 0.7593\n",
      "Epoch 18/20\n",
      "216/216 [==============================] - 1s 5ms/step - loss: 0.6333 - acc: 0.6574 - val_loss: 0.5521 - val_acc: 0.7593\n",
      "Epoch 19/20\n",
      "216/216 [==============================] - 1s 5ms/step - loss: 0.6303 - acc: 0.6898 - val_loss: 0.5881 - val_acc: 0.7222\n",
      "Epoch 20/20\n",
      "216/216 [==============================] - 1s 4ms/step - loss: 0.6395 - acc: 0.6574 - val_loss: 0.5584 - val_acc: 0.7407\n",
      "------------------------------------------------------------\n"
     ]
    }
   ],
   "source": [
    "print(\"------------------------------------------------------------\")\n",
    "model.compile(loss='binary_crossentropy',optimizer = 'adam', metrics=['accuracy'])\n",
    "\n",
    "model.fit(X_train,y_train,epochs=20, validation_split=0.2)\n",
    "print(\"------------------------------------------------------------\")"
   ]
  },
  {
   "cell_type": "markdown",
   "metadata": {},
   "source": [
    "#### Evaluating the Neural Network 5 on Test set\n",
    "\n",
    "The trained neural network is evaluated on the test set to check its performance."
   ]
  },
  {
   "cell_type": "code",
   "execution_count": 19,
   "metadata": {},
   "outputs": [
    {
     "name": "stdout",
     "output_type": "stream",
     "text": [
      "-----------------------------------------------------------------\n",
      "Accuracy of RNN Classifier : 0.6\n",
      "-----------------------------------------------------------------\n",
      "Classification report : \n",
      "               precision    recall  f1-score   support\n",
      "\n",
      "           1       1.00      0.08      0.14        13\n",
      "           0       0.59      1.00      0.74        17\n",
      "\n",
      "    accuracy                           0.60        30\n",
      "   macro avg       0.79      0.54      0.44        30\n",
      "weighted avg       0.77      0.60      0.48        30\n",
      "\n",
      "-----------------------------------------------------------------\n"
     ]
    },
    {
     "data": {
      "image/png": "[encoded data removed]",
      "text/plain": [
       "<Figure size 720x576 with 2 Axes>"
      ]
     },
     "metadata": {},
     "output_type": "display_data"
    }
   ],
   "source": [
    "y_pred = model.predict_classes(X_test)\n",
    "score = model.evaluate(X_test, y_test,verbose=0)\n",
    "\n",
    "cm = confusion_matrix(y_pred, y_test)\n",
    "\n",
    "plt.figure(figsize = (10,8))\n",
    "sns.set(font_scale=1.4)\n",
    "sns.heatmap(cm, annot=True)\n",
    "plt.suptitle('Confusion Matrix (RNN)',fontsize=30)\n",
    "# plt.savefig(\"./ConfusionMatrix_RNNLSTM_LabMeaswithtime.jpg\", \n",
    "#            bbox_inches =\"tight\", \n",
    "#            pad_inches = 1, \n",
    "#            transparent = True, \n",
    "#            orientation ='landscape') \n",
    "\n",
    "print(\"-----------------------------------------------------------------\")\n",
    "print(\"Accuracy of RNN Classifier :\", accuracy_score(y_test, y_pred))\n",
    "print(\"-----------------------------------------------------------------\")\n",
    "matrix = classification_report(y_test,y_pred,labels=[1,0])\n",
    "print('Classification report : \\n',matrix)\n",
    "print(\"-----------------------------------------------------------------\")"
   ]
  },
  {
   "cell_type": "markdown",
   "metadata": {},
   "source": [
    "#### Neural Network 6 (Clockwork RNN)\n",
    "\n",
    "The basic architecture of neural network based on Clockwork RNN. "
   ]
  },
  {
   "cell_type": "code",
   "execution_count": 12,
   "metadata": {},
   "outputs": [
    {
     "name": "stdout",
     "output_type": "stream",
     "text": [
      "------------------------------------------------------------\n",
      "_________________________________________________________________\n",
      "Layer (type)                 Output Shape              Param #   \n",
      "=================================================================\n",
      "clockwork_simple_rnn_2 (Cloc (None, 134)               4814      \n",
      "_________________________________________________________________\n",
      "dense_5 (Dense)              (None, 1000)              135000    \n",
      "_________________________________________________________________\n",
      "dense_6 (Dense)              (None, 1)                 1001      \n",
      "=================================================================\n",
      "Total params: 140,815\n",
      "Trainable params: 140,815\n",
      "Non-trainable params: 0\n",
      "_________________________________________________________________\n",
      "------------------------------------------------------------\n"
     ]
    }
   ],
   "source": [
    "print(\"------------------------------------------------------------\")\n",
    "model = Sequential()\n",
    "model.add(ClockworkRNN(periods=[1,2,3],\n",
    "                       units_per_period=10, \n",
    "                       input_shape=(None, 1), \n",
    "                       output_units=X_train.shape[1]))\n",
    "model.add(Dense(1000, activation='sigmoid'))\n",
    "model.add(Dense(1, activation='sigmoid'))\n",
    "model.summary()\n",
    "print(\"------------------------------------------------------------\")"
   ]
  },
  {
   "cell_type": "markdown",
   "metadata": {},
   "source": [
    "#### Compiling the Neural Network 6\n",
    "\n",
    "The compilation of the neural network using loss function as binary crossentropy, optimizer as adam and using accuracy as metric to test the performance of the network."
   ]
  },
  {
   "cell_type": "code",
   "execution_count": 14,
   "metadata": {},
   "outputs": [
    {
     "name": "stdout",
     "output_type": "stream",
     "text": [
      "------------------------------------------------------------\n",
      "Train on 216 samples, validate on 54 samples\n",
      "Epoch 1/20\n",
      "216/216 [==============================] - 1s 6ms/step - loss: 0.5766 - acc: 0.7176 - val_loss: 0.6152 - val_acc: 0.6852\n",
      "Epoch 2/20\n",
      "216/216 [==============================] - 0s 2ms/step - loss: 0.5296 - acc: 0.7454 - val_loss: 0.6138 - val_acc: 0.7037\n",
      "Epoch 3/20\n",
      "216/216 [==============================] - 0s 2ms/step - loss: 0.5253 - acc: 0.7546 - val_loss: 0.5879 - val_acc: 0.7593\n",
      "Epoch 4/20\n",
      "216/216 [==============================] - 0s 2ms/step - loss: 0.5360 - acc: 0.7361 - val_loss: 0.5707 - val_acc: 0.7407\n",
      "Epoch 5/20\n",
      "216/216 [==============================] - 0s 1ms/step - loss: 0.5268 - acc: 0.7222 - val_loss: 0.5959 - val_acc: 0.7593\n",
      "Epoch 6/20\n",
      "216/216 [==============================] - 0s 2ms/step - loss: 0.5010 - acc: 0.7824 - val_loss: 0.6578 - val_acc: 0.6296\n",
      "Epoch 7/20\n",
      "216/216 [==============================] - 0s 1ms/step - loss: 0.4848 - acc: 0.7778 - val_loss: 0.5900 - val_acc: 0.7593\n",
      "Epoch 8/20\n",
      "216/216 [==============================] - 0s 1ms/step - loss: 0.4811 - acc: 0.7500 - val_loss: 0.6500 - val_acc: 0.6852\n",
      "Epoch 9/20\n",
      "216/216 [==============================] - 0s 1ms/step - loss: 0.4748 - acc: 0.7917 - val_loss: 0.6750 - val_acc: 0.7222\n",
      "Epoch 10/20\n",
      "216/216 [==============================] - 0s 2ms/step - loss: 0.4625 - acc: 0.7824 - val_loss: 0.6402 - val_acc: 0.7407\n",
      "Epoch 11/20\n",
      "216/216 [==============================] - 0s 2ms/step - loss: 0.4559 - acc: 0.7917 - val_loss: 0.6662 - val_acc: 0.7222\n",
      "Epoch 12/20\n",
      "216/216 [==============================] - 0s 2ms/step - loss: 0.4417 - acc: 0.8009 - val_loss: 0.7223 - val_acc: 0.6667\n",
      "Epoch 13/20\n",
      "216/216 [==============================] - 0s 2ms/step - loss: 0.4414 - acc: 0.7917 - val_loss: 0.7003 - val_acc: 0.7037\n",
      "Epoch 14/20\n",
      "216/216 [==============================] - 0s 1ms/step - loss: 0.4275 - acc: 0.8056 - val_loss: 0.7598 - val_acc: 0.6111\n",
      "Epoch 15/20\n",
      "216/216 [==============================] - 0s 2ms/step - loss: 0.4113 - acc: 0.8102 - val_loss: 0.7405 - val_acc: 0.7037\n",
      "Epoch 16/20\n",
      "216/216 [==============================] - 0s 2ms/step - loss: 0.4365 - acc: 0.7917 - val_loss: 0.7788 - val_acc: 0.6481\n",
      "Epoch 17/20\n",
      "216/216 [==============================] - 0s 1ms/step - loss: 0.4438 - acc: 0.7870 - val_loss: 0.7560 - val_acc: 0.6111\n",
      "Epoch 18/20\n",
      "216/216 [==============================] - 0s 2ms/step - loss: 0.4041 - acc: 0.8102 - val_loss: 0.8035 - val_acc: 0.6296\n",
      "Epoch 19/20\n",
      "216/216 [==============================] - 0s 1ms/step - loss: 0.3703 - acc: 0.8333 - val_loss: 0.8412 - val_acc: 0.5926\n",
      "Epoch 20/20\n",
      "216/216 [==============================] - 0s 2ms/step - loss: 0.3899 - acc: 0.8194 - val_loss: 0.8051 - val_acc: 0.6667\n",
      "------------------------------------------------------------\n"
     ]
    }
   ],
   "source": [
    "print(\"------------------------------------------------------------\")\n",
    "model.compile(optimizer='adam', loss='binary_crossentropy', metrics=['accuracy'])\n",
    "\n",
    "model.fit(X_train,y_train,epochs=20, validation_split=0.2)\n",
    "print(\"------------------------------------------------------------\")"
   ]
  },
  {
   "cell_type": "markdown",
   "metadata": {},
   "source": [
    "#### Evaluating the Neural Network 6 on Test set\n",
    "\n",
    "The trained neural network is evaluated on the test set to check its performance."
   ]
  },
  {
   "cell_type": "code",
   "execution_count": 15,
   "metadata": {},
   "outputs": [
    {
     "name": "stdout",
     "output_type": "stream",
     "text": [
      "------------------------------------------------------------------\n",
      "Accuracy of CWRNN Classifier : 0.4\n",
      "------------------------------------------------------------------\n",
      "Classification report : \n",
      "               precision    recall  f1-score   support\n",
      "\n",
      "           1       0.22      0.15      0.18        13\n",
      "           0       0.48      0.59      0.53        17\n",
      "\n",
      "    accuracy                           0.40        30\n",
      "   macro avg       0.35      0.37      0.35        30\n",
      "weighted avg       0.37      0.40      0.38        30\n",
      "\n",
      "------------------------------------------------------------------\n"
     ]
    },
    {
     "data": {
      "image/png": "[encoded data removed]",
      "text/plain": [
       "<Figure size 720x576 with 2 Axes>"
      ]
     },
     "metadata": {
      "needs_background": "light"
     },
     "output_type": "display_data"
    }
   ],
   "source": [
    "y_pred = model.predict_classes(X_test)\n",
    "score = model.evaluate(X_test, y_test,verbose=0)\n",
    "\n",
    "cm = confusion_matrix(y_pred, y_test)\n",
    "\n",
    "plt.figure(figsize = (10,8))\n",
    "sns.set(font_scale=1.4)\n",
    "sns.heatmap(cm, annot=True)\n",
    "plt.suptitle('Confusion Matrix (CWRNN)',fontsize=30)\n",
    "# plt.savefig(\"./ConfusionMatrix_CWRNN_LabMeaswithtime.jpg\", \n",
    "#            bbox_inches =\"tight\", \n",
    "#            pad_inches = 1, \n",
    "#            transparent = True, \n",
    "#            orientation ='landscape')\n",
    "print(\"------------------------------------------------------------------\")\n",
    "print(\"Accuracy of CWRNN Classifier :\", accuracy_score(y_test, y_pred))\n",
    "print(\"------------------------------------------------------------------\")\n",
    "matrix = classification_report(y_test,y_pred,labels=[1,0])\n",
    "print('Classification report : \\n',matrix)\n",
    "print(\"------------------------------------------------------------------\")"
   ]
  },
  {
   "cell_type": "code",
   "execution_count": null,
   "metadata": {},
   "outputs": [],
   "source": []
  }
 ],
 "metadata": {
  "kernelspec": {
   "display_name": "Python 3",
   "language": "python",
   "name": "python3"
  },
  "language_info": {
   "codemirror_mode": {
    "name": "ipython",
    "version": 3
   },
   "file_extension": ".py",
   "mimetype": "text/x-python",
   "name": "python",
   "nbconvert_exporter": "python",
   "pygments_lexer": "ipython3",
   "version": "3.7.3"
  }
 },
 "nbformat": 4,
 "nbformat_minor": 4
}
